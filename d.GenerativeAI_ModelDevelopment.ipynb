{
 "cells": [
  {
   "cell_type": "code",
   "execution_count": null,
   "id": "04d84c51-7d25-461d-92ca-e5956c0c81d5",
   "metadata": {},
   "outputs": [],
   "source": [
    "# URL = \"https://cf-courses-data.s3.us.cloud-object-storage.appdomain.cloud/IBMDeveloperSkillsNetwork-DA0101EN-Coursera/laptop_pricing_dataset_mod2.csv\""
   ]
  },
  {
   "cell_type": "code",
   "execution_count": 1,
   "id": "76e9999a-09a5-426e-ab6b-b65c6d24627c",
   "metadata": {},
   "outputs": [],
   "source": [
    "import pandas as pd\n",
    "\n",
    "# Define the file path\n",
    "file_path = \"https://cf-courses-data.s3.us.cloud-object-storage.appdomain.cloud/IBMDeveloperSkillsNetwork-DA0101EN-Coursera/laptop_pricing_dataset_mod2.csv\"\n",
    "\n",
    "# Read the CSV file into a pandas data frame\n",
    "data_frame = pd.read_csv(file_path)\n",
    "\n",
    "# Assume the first row of the file can be used as the headers for the data\n",
    "# If the file doesn't have headers, you can remove the 'header' parameter\n",
    "data_frame = pd.read_csv(file_path, header=0)\n",
    "\n",
    "# Additional details:\n",
    "# - The 'pd.read_csv()' function is used to read a CSV file into a pandas data frame.\n",
    "# - The 'header' parameter in the 'pd.read_csv()' function specifies which row to use as the headers.\n",
    "#   By default, it is set to 'infer', which means pandas will try to infer the headers from the file.\n",
    "#   If the headers are in the first row, you can set the 'header' parameter to 0."
   ]
  },
  {
   "cell_type": "code",
   "execution_count": 6,
   "id": "7c252c18-5bf7-4d02-a258-3e70da105801",
   "metadata": {},
   "outputs": [
    {
     "name": "stdout",
     "output_type": "stream",
     "text": [
      "DataFrame saved to C:\\Users\\Raegan\\Downloads\\GenerativeAI_ModelDevelopment_LaptopPricing.csv\n"
     ]
    }
   ],
   "source": [
    "file_path_dl = r\"C:\\Users\\Raegan\\Downloads\\GenerativeAI_ModelDevelopment_LaptopPricing.csv\"  #remname file\n",
    "try:\n",
    "    data_frame.to_csv(file_path_dl, index=False)\n",
    "    print(f'DataFrame saved to {file_path_dl}')\n",
    "except Exception as e:\n",
    "    print(f'An error occurred: {e}')"
   ]
  },
  {
   "cell_type": "code",
   "execution_count": null,
   "id": "2a5fdd39-c851-4a0d-81f8-fb2211068b15",
   "metadata": {},
   "outputs": [],
   "source": []
  },
  {
   "cell_type": "code",
   "execution_count": 10,
   "id": "069089e2-9249-49e3-9ada-db8a0ea8e203",
   "metadata": {},
   "outputs": [
    {
     "name": "stdout",
     "output_type": "stream",
     "text": [
      "Index(['Unnamed: 0.1', 'Unnamed: 0', 'Manufacturer', 'Category', 'GPU', 'OS',\n",
      "       'CPU_core', 'Screen_Size_inch', 'CPU_frequency', 'RAM_GB',\n",
      "       'Storage_GB_SSD', 'Weight_pounds', 'Price', 'Price-binned',\n",
      "       'Screen-Full_HD', 'Screen-IPS_panel'],\n",
      "      dtype='object')\n"
     ]
    }
   ],
   "source": [
    "print(data_frame.columns)"
   ]
  },
  {
   "cell_type": "code",
   "execution_count": 12,
   "id": "235f47c2-9ff8-4afe-a71a-ed17e7a401f4",
   "metadata": {},
   "outputs": [
    {
     "name": "stdout",
     "output_type": "stream",
     "text": [
      "Mean Squared Error (MSE): 284583.4405868629\n",
      "Coefficient of Determination (R^2): 0.1344436321024326\n"
     ]
    }
   ],
   "source": [
    "import pandas as pd\n",
    "from sklearn.linear_model import LinearRegression\n",
    "from sklearn.metrics import mean_squared_error, r2_score\n",
    "\n",
    "# Assume you have a pandas data frame called 'data_frame' with two columns: 'source_variable' and 'target_variable'\n",
    "# target variable as Price and the source variable as CPU_frequenc\n",
    "# Extract the source variable and target variable from the data frame\n",
    "X = data_frame[['CPU_frequency']]\n",
    "y = data_frame['Price']\n",
    "\n",
    "# Initialize a linear regression model\n",
    "model = LinearRegression()\n",
    "\n",
    "# Train the model using the source and target variables\n",
    "model.fit(X, y)\n",
    "\n",
    "# Make predictions using the trained model\n",
    "y_pred = model.predict(X)\n",
    "\n",
    "# Calculate the mean squared error (MSE)\n",
    "mse = mean_squared_error(y, y_pred)\n",
    "\n",
    "# Calculate the coefficient of determination (R^2)\n",
    "r2 = r2_score(y, y_pred)\n",
    "\n",
    "# Display the MSE and R^2 values\n",
    "print(\"Mean Squared Error (MSE):\", mse)\n",
    "print(\"Coefficient of Determination (R^2):\", r2)\n",
    "\n",
    "# Additional details:\n",
    "# - The 'LinearRegression' class from the 'sklearn.linear_model' module is used to create a linear regression model.\n",
    "# - The 'fit()' method is used to train the model using the source and target variables.\n",
    "# - The 'predict()' method is used to make predictions using the trained model.\n",
    "# - The 'mean_squared_error()' function from the 'sklearn.metrics' module is used to calculate the MSE.\n",
    "# - The 'r2_score()' function from the 'sklearn.metrics' module is used to calculate the R^2 value."
   ]
  },
  {
   "cell_type": "code",
   "execution_count": 16,
   "id": "da47da1c-896f-4f55-9396-e595e5aa72a2",
   "metadata": {},
   "outputs": [
    {
     "name": "stdout",
     "output_type": "stream",
     "text": [
      "Mean Squared Error (MSE): 161680.57263893107\n",
      "Coefficient of Determination (R^2): 0.5082509055187374\n"
     ]
    }
   ],
   "source": [
    "import pandas as pd\n",
    "from sklearn.linear_model import LinearRegression\n",
    "from sklearn.metrics import mean_squared_error, r2_score\n",
    "\n",
    "# Assume you have a pandas data frame called 'data_frame' with multiple columns: 'source_variable_1', 'source_variable_2', ..., 'target_variable'\n",
    "# build a linear regression model for the data set that uses CPU_frequency, RAM_GB, Storage_GB_SSD, CPU_core, OS, GPU and Category and source variables\n",
    "# and Price as the target variable\n",
    "# Extract the source variables and target variable from the data frame\n",
    "X = data_frame[['CPU_frequency', 'RAM_GB','Storage_GB_SSD','CPU_core','OS','GPU', 'Category']]\n",
    "y = data_frame['Price']\n",
    "\n",
    "# Initialize a linear regression model\n",
    "model = LinearRegression()\n",
    "\n",
    "# Train the model using the source and target variables\n",
    "model.fit(X, y)\n",
    "\n",
    "# Make predictions using the trained model\n",
    "y_pred = model.predict(X)\n",
    "\n",
    "# Calculate the mean squared error (MSE)\n",
    "mse = mean_squared_error(y, y_pred)\n",
    "\n",
    "# Calculate the coefficient of determination (R^2)\n",
    "r2 = r2_score(y, y_pred)\n",
    "\n",
    "# Display the MSE and R^2 values\n",
    "print(\"Mean Squared Error (MSE):\", mse)\n",
    "print(\"Coefficient of Determination (R^2):\", r2)\n",
    "\n",
    "# Additional details:\n",
    "# - The 'LinearRegression' class from the 'sklearn.linear_model' module is used to create a linear regression model.\n",
    "# - The 'fit()' method is used to train the model using the source and target variables.\n",
    "# - The 'predict()' method is used to make predictions using the trained model.\n",
    "# - The 'mean_squared_error()' function from the 'sklearn.metrics' module is used to calculate the MSE.\n",
    "# - The 'r2_score()' function from the 'sklearn.metrics' module is used to calculate the R^2 value."
   ]
  },
  {
   "cell_type": "code",
   "execution_count": 22,
   "id": "c259dcb7-675a-4e91-900c-56aae2632341",
   "metadata": {},
   "outputs": [
    {
     "name": "stdout",
     "output_type": "stream",
     "text": [
      "Mean Squared Error (MSE): 128987.04078699544\n",
      "Coefficient of Determination (R^2): 0.6076878039733665\n"
     ]
    }
   ],
   "source": [
    "import pandas as pd\n",
    "import numpy as np\n",
    "from sklearn.model_selection import GridSearchCV, cross_val_score\n",
    "from sklearn.preprocessing import PolynomialFeatures\n",
    "from sklearn.linear_model import Ridge\n",
    "from sklearn.metrics import mean_squared_error, r2_score\n",
    "\n",
    "# Assume you have a pandas data frame called 'data_frame' with multiple columns: 'source_variable_1', 'source_variable_2', ..., 'target_variable'\n",
    "# Source Variables: CPU_frequency, RAM_GB, Storage_GB_SSD, CPU_core, OS, GPU and Category\n",
    "# Target Variable: Price\n",
    "# Set of values for alpha: 0.0001,0.001,0.01, 0.1, 1, 10\n",
    "# Cross Validation: 4-fold\n",
    "# Polynomial Feature order: 2\n",
    "\n",
    "# Extract the source variables and target variable from the data frame\n",
    "X = data_frame[['CPU_frequency', 'RAM_GB','Storage_GB_SSD','CPU_core','OS','GPU', 'Category']]\n",
    "y = data_frame['Price']\n",
    "\n",
    "# Create polynomial features\n",
    "polynomial_features = PolynomialFeatures(degree=2)\n",
    "\n",
    "# Transform the source variables into polynomial features\n",
    "X_poly = polynomial_features.fit_transform(X)\n",
    "\n",
    "# Define the hyperparameter values for the grid search\n",
    "param_grid = {'alpha': [0.0001,0.001,0.01, 0.1, 1, 10] }\n",
    "\n",
    "# Initialize a ridge regression model\n",
    "model = Ridge()\n",
    "\n",
    "# Perform grid search with cross-validation\n",
    "grid_search = GridSearchCV(model, param_grid, cv=4)\n",
    "\n",
    "# Train the model using the polynomial features and target variable\n",
    "grid_search.fit(X_poly, y)\n",
    "\n",
    "# Make predictions using the trained model\n",
    "y_pred = grid_search.predict(X_poly)\n",
    "\n",
    "# Calculate the mean squared error (MSE)\n",
    "mse = mean_squared_error(y, y_pred)\n",
    "\n",
    "# Calculate the coefficient of determination (R^2)\n",
    "r2 = r2_score(y, y_pred)\n",
    "\n",
    "# Display the MSE and R^2 values\n",
    "print(\"Mean Squared Error (MSE):\", mse)\n",
    "print(\"Coefficient of Determination (R^2):\", r2)\n",
    "\n",
    "# Additional details:\n",
    "# - The 'PolynomialFeatures' class from the 'sklearn.preprocessing' module is used to create polynomial features.\n",
    "# - The 'GridSearchCV' class from the 'sklearn.model_selection' module is used to perform grid search with cross-validation.\n",
    "# - The 'Ridge' class from the 'sklearn.linear_model' module is used for ridge regression.\n",
    "# - The 'fit_transform()' method is used to transform the source variables into polynomial features.\n",
    "# - The 'param_grid' parameter in the 'GridSearchCV' class specifies the hyperparameter values to search over.\n",
    "# - The 'cv' parameter in the 'GridSearchCV' class specifies the number of folds for cross-validation.\n",
    "# - The best model found by grid search can be accessed using the 'best_estimator_' attribute of the grid search object."
   ]
  },
  {
   "cell_type": "code",
   "execution_count": null,
   "id": "9db2da02-11c8-4842-8dcb-738f34c23a5f",
   "metadata": {},
   "outputs": [],
   "source": []
  }
 ],
 "metadata": {
  "kernelspec": {
   "display_name": "Python 3 (ipykernel)",
   "language": "python",
   "name": "python3"
  },
  "language_info": {
   "codemirror_mode": {
    "name": "ipython",
    "version": 3
   },
   "file_extension": ".py",
   "mimetype": "text/x-python",
   "name": "python",
   "nbconvert_exporter": "python",
   "pygments_lexer": "ipython3",
   "version": "3.12.3"
  }
 },
 "nbformat": 4,
 "nbformat_minor": 5
}
