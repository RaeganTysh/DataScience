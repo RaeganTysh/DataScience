{
 "cells": [
  {
   "cell_type": "markdown",
   "id": "c04f8d5c-1b1d-48ba-bd90-e1495483bccc",
   "metadata": {},
   "source": [
    "## Hands-on Lab: Generative AI for Data Preparation\n",
    "### Estimated time: 30 minutes\n",
    "### In practice, the initial part of a data science workflow involves cleaning and preparing data for better analysis. This part usually requires the removal of blank entries, normalization of numerical attributes, numerical interpretation of categorical variables, and so on. In this lab, you will use a generative AI model to create a Python code to perform all the required tasks on a real-world data set.\n",
    "\n",
    "## Learning objectives\n",
    "## In this lab, you will learn how to use generative AI for creating a Python code to:\n",
    "\n",
    "### Handle missing values in the data set\n",
    "### Correct the data type for the required data set attributes\n",
    "### Perform standardization and normalization on required parameters\n",
    "### Convert categorical data into numerical indicator variables"
   ]
  },
  {
   "cell_type": "code",
   "execution_count": 1,
   "id": "67011a02-5554-4f91-bfa3-75cc9b8c7865",
   "metadata": {},
   "outputs": [
    {
     "name": "stdout",
     "output_type": "stream",
     "text": [
      "     Unnamed: 0 Manufacturer  Category     Screen  GPU  OS  CPU_core  \\\n",
      "0             0         Acer         4  IPS Panel    2   1         5   \n",
      "1             1         Dell         3    Full HD    1   1         3   \n",
      "2             2         Dell         3    Full HD    1   1         7   \n",
      "3             3         Dell         4  IPS Panel    2   1         5   \n",
      "4             4           HP         4    Full HD    2   1         7   \n",
      "..          ...          ...       ...        ...  ...  ..       ...   \n",
      "233         233       Lenovo         4  IPS Panel    2   1         7   \n",
      "234         234      Toshiba         3    Full HD    2   1         5   \n",
      "235         235       Lenovo         4  IPS Panel    2   1         5   \n",
      "236         236       Lenovo         3    Full HD    3   1         5   \n",
      "237         237      Toshiba         3    Full HD    2   1         5   \n",
      "\n",
      "     Screen_Size_cm  CPU_frequency  RAM_GB  Storage_GB_SSD  Weight_kg  Price  \n",
      "0            35.560            1.6       8             256       1.60    978  \n",
      "1            39.624            2.0       4             256       2.20    634  \n",
      "2            39.624            2.7       8             256       2.20    946  \n",
      "3            33.782            1.6       8             128       1.22   1244  \n",
      "4            39.624            1.8       8             256       1.91    837  \n",
      "..              ...            ...     ...             ...        ...    ...  \n",
      "233          35.560            2.6       8             256       1.70   1891  \n",
      "234          33.782            2.4       8             256       1.20   1950  \n",
      "235          30.480            2.6       8             256       1.36   2236  \n",
      "236          39.624            2.5       6             256       2.40    883  \n",
      "237          35.560            2.3       8             256       1.95   1499  \n",
      "\n",
      "[238 rows x 13 columns]\n"
     ]
    }
   ],
   "source": [
    "import pandas as pd\n",
    "\n",
    "# Specify the file path\n",
    "file_path = \"https://cf-courses-data.s3.us.cloud-object-storage.appdomain.cloud/IBMDeveloperSkillsNetwork-DA0101EN-Coursera/laptop_pricing_dataset_mod1.csv\"\n",
    "\n",
    "# Read the CSV file into a Pandas data frame\n",
    "df = pd.read_csv(file_path)\n",
    "\n",
    "print(df)\n",
    "\n",
    "# Assuming the first rows of the file are the headers, you don't need to specify any additional parameters\n",
    "\n",
    "# Additional details:\n",
    "# - The `pd.read_csv()` function is used to read a CSV file into a Pandas data frame.\n",
    "# - By default, it assumes that the first row of the file contains the headers for the data.\n",
    "# - If your file doesn't have headers, you can specify `header=None` as an additional parameter.\n",
    "# - You can also specify other parameters, such as `sep` to specify the delimiter used in the file.\n",
    "# - Make sure you have the Pandas library installed in your Python environment before running this code."
   ]
  },
  {
   "cell_type": "code",
   "execution_count": 5,
   "id": "cbe2236b-a567-401f-b3ca-8e1eea795fd7",
   "metadata": {},
   "outputs": [
    {
     "name": "stdout",
     "output_type": "stream",
     "text": [
      "DataFrame saved to C:\\Users\\Raegan\\Downloads\\GenerativeAI_DataPreperation_LaptopPricing.csv\n"
     ]
    }
   ],
   "source": [
    "#original file download\n",
    "# filepath ='https://cf-courses-data.s3.us.cloud-object-storage.appdomain.cloud/IBM-DS0321EN-SkillsNetwork/labs/module_2/data/Spacex.csv'\n",
    "# df_original = pd.read_csv(filepath, header=0)\n",
    "file_path = r\"C:\\Users\\Raegan\\Downloads\\GenerativeAI_DataPreperation_LaptopPricing.csv\"  #remname file\n",
    "try:\n",
    "    df.to_csv(file_path, index=False)\n",
    "    print(f'DataFrame saved to {file_path}')\n",
    "except Exception as e:\n",
    "    print(f'An error occurred: {e}')"
   ]
  },
  {
   "cell_type": "code",
   "execution_count": 25,
   "id": "f05f788d-ba62-470f-ac14-04e24a46379c",
   "metadata": {},
   "outputs": [
    {
     "name": "stdout",
     "output_type": "stream",
     "text": [
      "Unnamed: 0          int64\n",
      "Manufacturer       object\n",
      "Category            int64\n",
      "Screen             object\n",
      "GPU                 int64\n",
      "OS                  int64\n",
      "CPU_core            int64\n",
      "Screen_Size_cm    float64\n",
      "CPU_frequency     float64\n",
      "RAM_GB              int64\n",
      "Storage_GB_SSD      int64\n",
      "Weight_kg         float64\n",
      "Price               int64\n",
      "dtype: object\n",
      "Index(['Screen_Size_cm', 'Weight_kg'], dtype='object')\n",
      "                        Column  Missing Values Count\n",
      "Screen_Size_cm  Screen_Size_cm                     4\n",
      "Weight_kg            Weight_kg                     5\n"
     ]
    }
   ],
   "source": [
    "import pandas as pd\n",
    "\n",
    "# Identify columns with missing values\n",
    "columns_with_missing_values = df.columns[df.isnull().any()]\n",
    "missing_values_count = df.isnull().sum()[columns_with_missing_values]\n",
    "\n",
    "df.columns\n",
    "print(df.dtypes)\n",
    "print(columns_with_missing_values)\n",
    "missing_values_info = pd.DataFrame({'Column': columns_with_missing_values, 'Missing Values Count': missing_values_count})\n",
    "print(missing_values_info)\n",
    "\n",
    "# Additional details:\n",
    "# - The `df.isnull()` function returns a Boolean data frame where each cell is True if it contains a missing value (NaN), and False otherwise.\n",
    "# - The `df.columns` attribute returns the column labels of the data frame.\n",
    "# - The `.any()` method returns a Boolean Series indicating whether any value in the given axis (in this case, columns) is True.\n",
    "# - Finally, the `.columns` attribute is used to retrieve the column labels where the condition is True.\n",
    "\n",
    "# You can now use the 'columns_with_missing_values' variable to further analyze or handle the columns with missing values."
   ]
  },
  {
   "cell_type": "code",
   "execution_count": 29,
   "id": "ea5f2fd7-2383-44cc-b6e9-1263d14d7797",
   "metadata": {},
   "outputs": [],
   "source": [
    "# Replace missing values in the 'Screen_Size_cm' column with the most frequent value\n",
    "most_frequent_value = df['Screen_Size_cm'].mode()[0]\n",
    "# df['Screen_Size_cm'].fillna(most_frequent_value, inplace=True) in place true depreciated\n",
    "df['Screen_Size_cm'] = df['Screen_Size_cm'].fillna(most_frequent_value)\n",
    "\n",
    "# Replace missing values in the 'Weight_kg' column with the mean value\n",
    "mean_value = df['Weight_kg'].mean()\n",
    "#df['Weight_kg'].fillna(mean_value, inplace=True) #in place true depreciated\n",
    "df['Weight_kg'] = df['Weight_kg'].fillna(mean_value)\n",
    "\n",
    "# Additional details:\n",
    "# - The `.mode()` method is used to calculate the most frequent value in a column.\n",
    "# - The `[0]` indexing is used to retrieve the most frequent value from the resulting Series.\n",
    "# - The `.fillna()` method is used to replace missing values with a specified value.\n",
    "# - The `inplace=True` parameter is used to modify the original data frame instead of creating a new one."
   ]
  },
  {
   "cell_type": "code",
   "execution_count": 31,
   "id": "141d2d8d-7b70-494b-90ab-1fe66beb7f07",
   "metadata": {},
   "outputs": [],
   "source": [
    "# Change the data type of 'Screen_Size_cm' and 'Weight_kg' to float - already float\n",
    "df['Screen_Size_cm'] = df['Screen_Size_cm'].astype(float)\n",
    "df['Weight_kg'] = df['Weight_kg'].astype(float)\n",
    "\n",
    "# Additional details:\n",
    "# - The `.astype()` method is used to change the data type of a column.\n",
    "# - In this case, we're specifying `float` as the desired data type.\n",
    "# - Make sure the columns contain numeric values that can be converted to float.\n",
    "# - If there are any non-numeric values in the columns, the conversion will raise an error.\n",
    "# You can now use the modified 'df' data frame, which has the data types of 'Screen_Size_cm' and 'Weight_kg' changed to float."
   ]
  },
  {
   "cell_type": "code",
   "execution_count": 33,
   "id": "18b444b6-77c6-4d24-ac04-0e0ba27f8e59",
   "metadata": {},
   "outputs": [],
   "source": [
    "# Normalize the content under 'CPU_frequency' with respect to its maximum value\n",
    "max_value = df['CPU_frequency'].max()\n",
    "df['CPU_frequency'] = df['CPU_frequency'] / max_value\n",
    "\n",
    "# Additional details:\n",
    "# - The code calculates the maximum value of the 'CPU_frequency' attribute using the `.max()` method.\n",
    "# - It then divides the values under 'CPU_frequency' by the maximum value to normalize them.\n",
    "# - The resulting normalized values overwrite the original values in the 'CPU_frequency' attribute.\n",
    "# You can now use the modified 'df' data frame, which has the content under the 'CPU_frequency' attribute normalized."
   ]
  },
  {
   "cell_type": "code",
   "execution_count": 35,
   "id": "7bdda1d8-27c4-4a34-ad7b-f526f3680492",
   "metadata": {},
   "outputs": [],
   "source": [
    "# Convert the 'Screen' attribute into indicator variables - since it is an object \n",
    "df1 = pd.get_dummies(df['Screen'], prefix='Screen')\n",
    "\n",
    "# Append df1 into the original data frame df\n",
    "df = pd.concat([df, df1], axis=1)\n",
    "\n",
    "# Drop the original 'Screen' attribute from the data frame\n",
    "df.drop('Screen', axis=1, inplace=True)\n",
    "\n",
    "# Additional details:\n",
    "# - The `pd.get_dummies()` function is used to convert a categorical attribute into indicator variables.\n",
    "# - The resulting indicator variables are stored in a new data frame named 'df1'.\n",
    "# - The `prefix` parameter is used to specify the naming convention for the indicator variables.\n",
    "# - The `pd.concat()` function is used to concatenate the original data frame 'df' and 'df1' along the column axis (axis=1).\n",
    "# - The resulting concatenated data frame is assigned back to 'df'.\n",
    "# - Finally, the `.drop()` method is used to drop the original 'Screen' attribute from 'df'.\n",
    "# You can now use the modified 'df' data frame, which has the 'Screen' attribute converted into indicator variables, appended, and the original attribute dropped."
   ]
  },
  {
   "cell_type": "markdown",
   "id": "9d257d71-0935-490b-ad0c-f912924a57e0",
   "metadata": {},
   "source": [
    "## Practice"
   ]
  },
  {
   "cell_type": "code",
   "execution_count": 38,
   "id": "f675c8de-b599-45d6-aae3-d02693cfb90c",
   "metadata": {},
   "outputs": [
    {
     "name": "stdout",
     "output_type": "stream",
     "text": [
      "   Unnamed: 0 Manufacturer  Category  GPU  OS  CPU_core  Screen_Size_cm  \\\n",
      "0           0         Acer         4    2   1         5          35.560   \n",
      "1           1         Dell         3    1   1         3          39.624   \n",
      "2           2         Dell         3    1   1         7          39.624   \n",
      "3           3         Dell         4    2   1         5          33.782   \n",
      "4           4           HP         4    2   1         7          39.624   \n",
      "\n",
      "   CPU_frequency  RAM_GB  Storage_GB_SSD  Weight_kg  Price  Screen_Full HD  \\\n",
      "0       0.551724       8             256       1.60    978           False   \n",
      "1       0.689655       4             256       2.20    634            True   \n",
      "2       0.931034       8             256       2.20    946            True   \n",
      "3       0.551724       8             128       1.22   1244           False   \n",
      "4       0.620690       8             256       1.91    837            True   \n",
      "\n",
      "   Screen_IPS Panel  Price_EUR  CPU_frequency_normalized  \n",
      "0              True     831.30                  0.235294  \n",
      "1             False     538.90                  0.470588  \n",
      "2             False     804.10                  0.882353  \n",
      "3              True    1057.40                  0.235294  \n",
      "4             False     711.45                  0.352941  \n"
     ]
    }
   ],
   "source": [
    "#Create a prompt to generate a Python code that converts the values under Price from USD to Euros.\n",
    "# Conversion rate from USD to Euros\n",
    "conversion_rate = 0.85  # Example conversion rate\n",
    "\n",
    "# Convert Price from USD to Euros\n",
    "df['Price_EUR'] = df['Price'] * conversion_rate\n",
    "\n",
    "#Modify the normalization prompt to perform min-max normalization on the CPU_frequency parameter.\n",
    "\n",
    "# Perform min-max normalization on the 'CPU_frequency' column\n",
    "df['CPU_frequency_normalized'] = (df['CPU_frequency'] - df['CPU_frequency'].min()) / (df['CPU_frequency'].max() - df['CPU_frequency'].min())\n",
    "\n",
    "# Show the updated DataFrame\n",
    "print(df.head())\n"
   ]
  }
 ],
 "metadata": {
  "kernelspec": {
   "display_name": "Python 3 (ipykernel)",
   "language": "python",
   "name": "python3"
  },
  "language_info": {
   "codemirror_mode": {
    "name": "ipython",
    "version": 3
   },
   "file_extension": ".py",
   "mimetype": "text/x-python",
   "name": "python",
   "nbconvert_exporter": "python",
   "pygments_lexer": "ipython3",
   "version": "3.12.3"
  }
 },
 "nbformat": 4,
 "nbformat_minor": 5
}
