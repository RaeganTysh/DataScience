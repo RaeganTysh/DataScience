{
 "cells": [
  {
   "cell_type": "markdown",
   "metadata": {},
   "source": [
    "<p style=\"text-align:center\">\n",
    "    <a href=\"https://skills.network\" target=\"_blank\">\n",
    "    <img src=\"https://cf-courses-data.s3.us.cloud-object-storage.appdomain.cloud/assets/logos/SN_web_lightmode.png\" width=\"200\" alt=\"Skills Network Logo\">\n",
    "    </a>\n",
    "</p>\n"
   ]
  },
  {
   "cell_type": "markdown",
   "metadata": {},
   "source": [
    "# **Space X  Falcon 9 First Stage Landing Prediction**\n"
   ]
  },
  {
   "cell_type": "markdown",
   "metadata": {},
   "source": [
    "## Web scraping Falcon 9 and Falcon Heavy Launches Records from Wikipedia\n"
   ]
  },
  {
   "cell_type": "markdown",
   "metadata": {},
   "source": [
    "Estimated time needed: **40** minutes\n"
   ]
  },
  {
   "cell_type": "markdown",
   "metadata": {},
   "source": [
    "In this lab, you will be performing web scraping to collect Falcon 9 historical launch records from a Wikipedia page titled `List of Falcon 9 and Falcon Heavy launches`\n",
    "\n",
    "https://en.wikipedia.org/wiki/List_of_Falcon_9_and_Falcon_Heavy_launches\n"
   ]
  },
  {
   "cell_type": "markdown",
   "metadata": {},
   "source": [
    "![](https://cf-courses-data.s3.us.cloud-object-storage.appdomain.cloud/IBM-DS0321EN-SkillsNetwork/labs/module_1_L2/images/Falcon9_rocket_family.svg)\n"
   ]
  },
  {
   "cell_type": "markdown",
   "metadata": {},
   "source": [
    "Falcon 9 first stage will land successfully\n"
   ]
  },
  {
   "cell_type": "markdown",
   "metadata": {},
   "source": [
    "![](https://cf-courses-data.s3.us.cloud-object-storage.appdomain.cloud/IBMDeveloperSkillsNetwork-DS0701EN-SkillsNetwork/api/Images/landing_1.gif)\n"
   ]
  },
  {
   "cell_type": "markdown",
   "metadata": {},
   "source": [
    "Several examples of an unsuccessful landing are shown here:\n"
   ]
  },
  {
   "cell_type": "markdown",
   "metadata": {},
   "source": [
    "![](https://cf-courses-data.s3.us.cloud-object-storage.appdomain.cloud/IBMDeveloperSkillsNetwork-DS0701EN-SkillsNetwork/api/Images/crash.gif)\n"
   ]
  },
  {
   "cell_type": "markdown",
   "metadata": {},
   "source": [
    "More specifically, the launch records are stored in a HTML table shown below:\n"
   ]
  },
  {
   "cell_type": "markdown",
   "metadata": {},
   "source": [
    "![](https://cf-courses-data.s3.us.cloud-object-storage.appdomain.cloud/IBM-DS0321EN-SkillsNetwork/labs/module_1_L2/images/falcon9-launches-wiki.png)\n"
   ]
  },
  {
   "cell_type": "markdown",
   "metadata": {},
   "source": [
    "  ## Objectives\n",
    "Web scrap Falcon 9 launch records with `BeautifulSoup`: \n",
    "- Extract a Falcon 9 launch records HTML table from Wikipedia\n",
    "- Parse the table and convert it into a Pandas data frame\n"
   ]
  },
  {
   "cell_type": "markdown",
   "metadata": {},
   "source": [
    "First let's import required packages for this lab\n"
   ]
  },
  {
   "cell_type": "code",
   "execution_count": 1,
   "metadata": {},
   "outputs": [
    {
     "name": "stdout",
     "output_type": "stream",
     "text": [
      "Requirement already satisfied: beautifulsoup4 in c:\\users\\raegan\\anaconda3\\lib\\site-packages (4.12.3)\n",
      "Requirement already satisfied: soupsieve>1.2 in c:\\users\\raegan\\anaconda3\\lib\\site-packages (from beautifulsoup4) (2.5)\n",
      "Requirement already satisfied: requests in c:\\users\\raegan\\anaconda3\\lib\\site-packages (2.32.3)\n",
      "Requirement already satisfied: charset-normalizer<4,>=2 in c:\\users\\raegan\\anaconda3\\lib\\site-packages (from requests) (2.0.4)\n",
      "Requirement already satisfied: idna<4,>=2.5 in c:\\users\\raegan\\anaconda3\\lib\\site-packages (from requests) (3.7)\n",
      "Requirement already satisfied: urllib3<3,>=1.21.1 in c:\\users\\raegan\\anaconda3\\lib\\site-packages (from requests) (1.26.19)\n",
      "Requirement already satisfied: certifi>=2017.4.17 in c:\\users\\raegan\\anaconda3\\lib\\site-packages (from requests) (2023.11.17)\n"
     ]
    }
   ],
   "source": [
    "!pip3 install beautifulsoup4\n",
    "!pip3 install requests"
   ]
  },
  {
   "cell_type": "code",
   "execution_count": 3,
   "metadata": {},
   "outputs": [],
   "source": [
    "import sys\n",
    "\n",
    "import requests\n",
    "from bs4 import BeautifulSoup\n",
    "import re\n",
    "import unicodedata\n",
    "import pandas as pd"
   ]
  },
  {
   "cell_type": "markdown",
   "metadata": {},
   "source": [
    "and we will provide some helper functions for you to process web scraped HTML table\n"
   ]
  },
  {
   "cell_type": "code",
   "execution_count": 135,
   "metadata": {},
   "outputs": [],
   "source": [
    "def date_time(table_cells):\n",
    "    \"\"\"\n",
    "    This function returns the data and time from the HTML  table cell\n",
    "    Input: the  element of a table data cell extracts extra row\n",
    "    \"\"\"\n",
    "    #strip removes leading/trailing white space date_time column\n",
    "    return [data_time.strip() for data_time in list(table_cells.strings)][0:2]\n",
    "\n",
    "# def booster_version(table_cells):\n",
    "#     \"\"\"\n",
    "#     This function returns the booster version from the HTML  table cell \n",
    "#     Input: the  element of a table data cell extracts extra row\n",
    "#     \"\"\"\n",
    "#     out=''.join([booster_version for i,booster_version in enumerate( table_cells.strings) if i%2==0][0:-1])\n",
    "#     return out\n",
    "\n",
    "def booster_version(table_cells):\n",
    "    \"\"\"\n",
    "    This function returns the booster version from the HTML table cell.\n",
    "    Input: The element of a table data cell, extracts the booster version.\n",
    "    \"\"\"\n",
    "    # Extract the strings from the table cells\n",
    "    booster_versions = [booster_version for booster_version in table_cells.strings]\n",
    "    \n",
    "    # Join the strings, excluding the last one if it's an unwanted entry\n",
    "    out = ''.join(booster_versions[:-1])  # Exclude the last element if needed\n",
    "     # Keep only the first 2 characters of the resulting string\n",
    "    return out[:2]  # Slicing to keep only the first 2 characters\n",
    "    \n",
    "\n",
    "def landing_status(table_cells):\n",
    "    \"\"\"\n",
    "    This function returns the landing status from the HTML table cell \n",
    "    Input: the  element of a table data cell extracts extra row\n",
    "    \"\"\"\n",
    "    out=[i for i in table_cells.strings][0]\n",
    "    return out\n",
    "\n",
    "\n",
    "def get_mass(table_cells):\n",
    "    mass=unicodedata.normalize(\"NFKD\", table_cells.text).strip()\n",
    "    if mass:\n",
    "        mass.find(\"kg\")\n",
    "        new_mass=mass[0:mass.find(\"kg\")+2]\n",
    "    else:\n",
    "        new_mass=0\n",
    "    return new_mass\n",
    "\n",
    "\n",
    "def extract_column_from_header(row):\n",
    "    \"\"\"\n",
    "    This function returns the landing status from the HTML table cell \n",
    "    Input: the  element of a table data cell extracts extra row\n",
    "    \"\"\"\n",
    "    if (row.br):\n",
    "        row.br.extract()\n",
    "    if row.a:\n",
    "        row.a.extract()\n",
    "    if row.sup:\n",
    "        row.sup.extract()\n",
    "        \n",
    "    colunm_name = ' '.join(row.contents)\n",
    "    \n",
    "    # Filter the digit and empty names\n",
    "    if not(colunm_name.strip().isdigit()):\n",
    "        colunm_name = colunm_name.strip()\n",
    "        return colunm_name    \n"
   ]
  },
  {
   "cell_type": "markdown",
   "metadata": {},
   "source": [
    "To keep the lab tasks consistent, you will be asked to scrape the data from a snapshot of the  `List of Falcon 9 and Falcon Heavy launches` Wikipage updated on\n",
    "`9th June 2021`\n"
   ]
  },
  {
   "cell_type": "code",
   "execution_count": 45,
   "metadata": {},
   "outputs": [],
   "source": [
    "static_url = \"https://en.wikipedia.org/w/index.php?title=List_of_Falcon_9_and_Falcon_Heavy_launches&oldid=1027686922\""
   ]
  },
  {
   "cell_type": "markdown",
   "metadata": {},
   "source": [
    "Next, request the HTML page from the above URL and get a `response` object\n"
   ]
  },
  {
   "cell_type": "markdown",
   "metadata": {},
   "source": [
    "### TASK 1: Request the Falcon9 Launch Wiki page from its URL\n"
   ]
  },
  {
   "cell_type": "markdown",
   "metadata": {},
   "source": [
    "First, let's perform an HTTP GET method to request the Falcon9 Launch HTML page, as an HTTP response.\n"
   ]
  },
  {
   "cell_type": "code",
   "execution_count": 15,
   "metadata": {},
   "outputs": [
    {
     "name": "stdout",
     "output_type": "stream",
     "text": [
      "Request was successful.\n"
     ]
    }
   ],
   "source": [
    "# use requests.get() method with the provided static_url\n",
    "# assign the response to a object\n",
    "\n",
    "# Send a GET request to the URL and assign the response to an object\n",
    "#response = requests.get(static_url)\n",
    "\n",
    "# Optionally, check the status of the response (e.g., 200 for success)\n",
    "# ?if response.status_code == 200:\n",
    "#     print(\"Request was successful.\")\n",
    "# else:\n",
    "#     print(f\"Request failed with status code: {response.status_code}\")\n",
    "\n",
    "# Access the content of the response (if JSON, for example)\n",
    "#data = response.json()  # If the response is in JSON format\n",
    "\n",
    "# Display the data\n",
    "#print(data)"
   ]
  },
  {
   "cell_type": "markdown",
   "metadata": {},
   "source": [
    "Create a `BeautifulSoup` object from the HTML `response`\n"
   ]
  },
  {
   "cell_type": "code",
   "execution_count": null,
   "metadata": {},
   "outputs": [],
   "source": [
    "# Use BeautifulSoup() to create a BeautifulSoup object from a response text content\n",
    "# Define the URL\n",
    "url = \"https://en.wikipedia.org/w/index.php?title=List_of_Falcon_9_and_Falcon_Heavy_launches&oldid=1027686922\"  # Replace with your actual URL\n",
    "\n",
    "# Send a GET request to the URL\n",
    "response = requests.get(url)\n",
    "\n",
    "# Check if the request was successful\n",
    "if response.status_code == 200:\n",
    "    # Create a BeautifulSoup object from the HTML response\n",
    "    soup = BeautifulSoup(response.content, 'html.parser')\n",
    "    \n",
    "    # Print the parsed HTML (or you can work with the `soup` object)\n",
    "    print(soup.prettify())\n",
    "else:\n",
    "    print(f\"Request failed with status code: {response.status_code}\")"
   ]
  },
  {
   "cell_type": "markdown",
   "metadata": {},
   "source": [
    "Print the page title to verify if the `BeautifulSoup` object was created properly \n"
   ]
  },
  {
   "cell_type": "code",
   "execution_count": 49,
   "metadata": {},
   "outputs": [
    {
     "name": "stdout",
     "output_type": "stream",
     "text": [
      "Title tag: <title>List of Falcon 9 and Falcon Heavy launches - Wikipedia</title>\n",
      "Title text: List of Falcon 9 and Falcon Heavy launches - Wikipedia\n"
     ]
    }
   ],
   "source": [
    "# Use soup.title attribute\n",
    " # Access the <title> tag using the soup.title attribute\n",
    "page_title = soup.title\n",
    "# Print the title and its text content\n",
    "print(\"Title tag:\", page_title)\n",
    "print(\"Title text:\", page_title.string)  # To get just the text inside the <title> tag\n",
    "# else:\n",
    "# print(f\"Request failed with status code: {response.status_code}\")"
   ]
  },
  {
   "cell_type": "markdown",
   "metadata": {},
   "source": [
    "### TASK 2: Extract all column/variable names from the HTML table header\n"
   ]
  },
  {
   "cell_type": "markdown",
   "metadata": {},
   "source": [
    "Next, we want to collect all relevant column names from the HTML table header\n"
   ]
  },
  {
   "cell_type": "markdown",
   "metadata": {},
   "source": [
    "Let's try to find all tables on the wiki page first. If you need to refresh your memory about `BeautifulSoup`, please check the external reference link towards the end of this lab\n"
   ]
  },
  {
   "cell_type": "code",
   "execution_count": 55,
   "metadata": {},
   "outputs": [
    {
     "name": "stdout",
     "output_type": "stream",
     "text": [
      "Number of tables found: 26\n"
     ]
    }
   ],
   "source": [
    "# Use the find_all function in the BeautifulSoup object, with element type `table`\n",
    "# Assign the result to a list called `html_tables`\n",
    " # Use find_all to extract all <table> elements and assign them to a list called html_tables\n",
    "html_tables = soup.find_all('table')\n",
    "\n",
    "# Print the number of tables found\n",
    "print(f\"Number of tables found: {len(html_tables)}\")\n",
    "\n",
    "# Optionally, you can loop through and print each table\n",
    "# for index, table in enumerate(html_tables):\n",
    "#     print(f\"\\nTable {index + 1}:\")\n",
    "#     print(table.prettify())  # Prettify the HTML for better readability\n"
   ]
  },
  {
   "cell_type": "markdown",
   "metadata": {},
   "source": [
    "Starting from the third table is our target table contains the actual launch records.\n"
   ]
  },
  {
   "cell_type": "code",
   "execution_count": null,
   "metadata": {},
   "outputs": [],
   "source": [
    "first_launch_table = html_tables[2]\n",
    "print(first_launch_table)"
   ]
  },
  {
   "cell_type": "markdown",
   "metadata": {},
   "source": [
    "You should able to see the columns names embedded in the table header elements `<th>` as follows:\n"
   ]
  },
  {
   "cell_type": "markdown",
   "metadata": {},
   "source": [
    "```\n",
    "<tr>\n",
    "<th scope=\"col\">Flight No.\n",
    "</th>\n",
    "<th scope=\"col\">Date and<br/>time (<a href=\"/wiki/Coordinated_Universal_Time\" title=\"Coordinated Universal Time\">UTC</a>)\n",
    "</th>\n",
    "<th scope=\"col\"><a href=\"/wiki/List_of_Falcon_9_first-stage_boosters\" title=\"List of Falcon 9 first-stage boosters\">Version,<br/>Booster</a> <sup class=\"reference\" id=\"cite_ref-booster_11-0\"><a href=\"#cite_note-booster-11\">[b]</a></sup>\n",
    "</th>\n",
    "<th scope=\"col\">Launch site\n",
    "</th>\n",
    "<th scope=\"col\">Payload<sup class=\"reference\" id=\"cite_ref-Dragon_12-0\"><a href=\"#cite_note-Dragon-12\">[c]</a></sup>\n",
    "</th>\n",
    "<th scope=\"col\">Payload mass\n",
    "</th>\n",
    "<th scope=\"col\">Orbit\n",
    "</th>\n",
    "<th scope=\"col\">Customer\n",
    "</th>\n",
    "<th scope=\"col\">Launch<br/>outcome\n",
    "</th>\n",
    "<th scope=\"col\"><a href=\"/wiki/Falcon_9_first-stage_landing_tests\" title=\"Falcon 9 first-stage landing tests\">Booster<br/>landing</a>\n",
    "</th></tr>\n",
    "```\n"
   ]
  },
  {
   "cell_type": "markdown",
   "metadata": {},
   "source": [
    "Next, we just need to iterate through the `<th>` elements and apply the provided `extract_column_from_header()` to extract column name one by one\n"
   ]
  },
  {
   "cell_type": "code",
   "execution_count": 65,
   "metadata": {},
   "outputs": [
    {
     "name": "stdout",
     "output_type": "stream",
     "text": [
      "['Flight No.', 'Date andtime (UTC)', 'Version,Booster[b]', 'Launch site', 'Payload[c]', 'Payload mass', 'Orbit', 'Customer', 'Launchoutcome', 'Boosterlanding', '1', '2', '3', '4', '5', '6', '7']\n"
     ]
    }
   ],
   "source": [
    "# Apply find_all() function with `th` element on first_launch_table\n",
    "# Iterate each th element and apply the provided extract_column_from_header() to get a column name\n",
    "# Append the Non-empty column name (`if name is not None and len(name) > 0`) into a list called column_names\n",
    "\n",
    "# Initialize an empty list to store column names\n",
    "column_names = []\n",
    "\n",
    "# Apply the find_all() function to get all <th> elements in first_launch_table\n",
    "table_headers = first_launch_table.find_all('th')\n",
    "\n",
    "# Initialize a dictionary to store the length of each column\n",
    "# column_lengths = {}\n",
    "\n",
    "# Iterate over each <th> element and extract the column name\n",
    "for th in table_headers:\n",
    "    # Get the text content of the <th> element and strip any leading/trailing whitespace\n",
    "    column_name = th.get_text(strip=True)\n",
    "    \n",
    "    # Append the column name to the list if it is not None and non-empty\n",
    "    if column_name is not None and len(column_name) > 0:\n",
    "        column_names.append(column_name)\n",
    "        # column_lengths[column_name] = 0  # Initialize length to 0\n",
    "\n",
    "# Print the column names\n",
    "print(column_names)\n"
   ]
  },
  {
   "cell_type": "markdown",
   "metadata": {},
   "source": [
    "## TASK 3: Create a data frame by parsing the launch HTML tables\n"
   ]
  },
  {
   "cell_type": "markdown",
   "metadata": {},
   "source": [
    "We will create an empty dictionary with keys from the extracted column names in the previous task. Later, this dictionary will be converted into a Pandas dataframe\n"
   ]
  },
  {
   "cell_type": "code",
   "execution_count": 67,
   "metadata": {},
   "outputs": [],
   "source": [
    "launch_dict= dict.fromkeys(column_names)\n",
    "\n",
    "# Remove an irrelvant column\n",
    "del launch_dict['Date andtime (UTC)'] #updated\n",
    "del launch_dict['1']\n",
    "del launch_dict['2']\n",
    "del launch_dict['3']\n",
    "del launch_dict['4']\n",
    "del launch_dict['5']\n",
    "del launch_dict['6']\n",
    "del launch_dict['7']\n",
    "del launch_dict['Version,Booster[b]']\n",
    "del launch_dict['Boosterlanding']\n",
    "\n",
    "#rename to fit the following- parsing was crap\n",
    "column_names[column_names.index('Payload[c]')] = 'Payload'\n",
    "\n",
    "\n",
    "# Let's initial the launch_dict with each value to be an empty list\n",
    "launch_dict['Flight No.'] = []\n",
    "launch_dict['Launch site'] = []\n",
    "launch_dict['Payload'] = []\n",
    "launch_dict['Payload mass'] = []\n",
    "launch_dict['Orbit'] = []\n",
    "launch_dict['Customer'] = []\n",
    "launch_dict['Launchoutcome'] = []\n",
    "# Added some new columns\n",
    "launch_dict['Version Booster']=[]\n",
    "launch_dict['Booster landing']=[]\n",
    "launch_dict['Date']=[]\n",
    "launch_dict['Time']=[]"
   ]
  },
  {
   "cell_type": "code",
   "execution_count": 69,
   "metadata": {},
   "outputs": [
    {
     "name": "stdout",
     "output_type": "stream",
     "text": [
      "{'Flight No.': [], 'Launch site': [], 'Payload[c]': None, 'Payload mass': [], 'Orbit': [], 'Customer': [], 'Launchoutcome': [], 'Payload': [], 'Version Booster': [], 'Booster landing': [], 'Date': [], 'Time': []}\n"
     ]
    }
   ],
   "source": [
    "print(launch_dict)"
   ]
  },
  {
   "cell_type": "code",
   "execution_count": 71,
   "metadata": {},
   "outputs": [
    {
     "name": "stdout",
     "output_type": "stream",
     "text": [
      "{'Flight No.': [], 'Launch site': [], 'Payload mass': [], 'Orbit': [], 'Customer': [], 'Launchoutcome': [], 'Payload': [], 'Version Booster': [], 'Booster landing': [], 'Date': [], 'Time': []}\n"
     ]
    }
   ],
   "source": [
    "del launch_dict['Payload[c]']\n",
    "print(launch_dict)"
   ]
  },
  {
   "cell_type": "markdown",
   "metadata": {},
   "source": [
    "Next, we just need to fill up the `launch_dict` with launch records extracted from table rows.\n"
   ]
  },
  {
   "cell_type": "markdown",
   "metadata": {},
   "source": [
    "Usually, HTML tables in Wiki pages are likely to contain unexpected annotations and other types of noises, such as reference links `B0004.1[8]`, missing values `N/A [e]`, inconsistent formatting, etc.\n"
   ]
  },
  {
   "cell_type": "markdown",
   "metadata": {},
   "source": [
    "To simplify the parsing process, we have provided an incomplete code snippet below to help you to fill up the `launch_dict`. Please complete the following code snippet with TODOs or you can choose to write your own logic to parse all launch tables:\n"
   ]
  },
  {
   "cell_type": "code",
   "execution_count": 200,
   "metadata": {},
   "outputs": [
    {
     "name": "stdout",
     "output_type": "stream",
     "text": [
      "Flight No.: 715 entries\n",
      "Launch site: 471 entries\n",
      "Payload mass: 470 entries\n",
      "Orbit: 470 entries\n",
      "Customer: 469 entries\n",
      "Launchoutcome: 468 entries\n",
      "Payload: 471 entries\n",
      "Version Booster: 472 entries\n",
      "Booster landing: 468 entries\n",
      "Date: 363 entries\n",
      "Time: 363 entries\n"
     ]
    }
   ],
   "source": [
    "#DONT\" USE DOESN\"T LIMIT ROWS OD DATA_ INCORRECT\n",
    "# Initialize the launch_dict to store data\n",
    "# launch_dict = {'Flight No.': [], 'Launch site': [], 'Payload mass': [], 'Orbit': [], 'Customer': [], 'Launchoutcome': [], 'Payload': [], 'Version Booster': [], 'Booster landing': [], 'Date': [], 'Time': []}\n",
    "# trying to troubleshoot why so many entires... should only be 121 rows\n",
    "# Counter for extracted rows\n",
    "# extracted_row = 0\n",
    "\n",
    "# # Extract each table\n",
    "# for table_number, table in enumerate(soup.find_all('table', \"wikitable plainrowheaders collapsible\")):\n",
    "#     # Get table rows\n",
    "#     for rows in table.find_all(\"tr\"):\n",
    "#         # Check if first table heading corresponds to a launch number\n",
    "#         if rows.th:\n",
    "#             if rows.th.string:\n",
    "#                 flight_number = rows.th.string.strip()\n",
    "#                 flag = flight_number.isdigit()  # Ensure it's a valid flight number\n",
    "#         else:\n",
    "#             flag = False\n",
    "\n",
    "#         # Get table element (td elements)\n",
    "#         row = rows.find_all('td')\n",
    "\n",
    "#         # If it is a number, save cells in launch_dict\n",
    "#         if flag:\n",
    "#             extracted_row += 1\n",
    "\n",
    "#             # Extract data and append to the corresponding lists in launch_dict\n",
    "\n",
    "#             # Flight Number\n",
    "#             launch_dict['Flight No.'].append(flight_number)\n",
    "\n",
    "#             # Get date and time from the first cell\n",
    "#             datatimelist = date_time(row[0])\n",
    "#             date = datatimelist[0].strip(',')\n",
    "#             time = datatimelist[1]\n",
    "\n",
    "#             # Date and Time\n",
    "#             launch_dict['Date'].append(date)\n",
    "#             launch_dict['Time'].append(time)\n",
    "\n",
    "#             # Version Booster\n",
    "#             bv = booster_version(row[1])\n",
    "#             launch_dict['Version Booster'].append(bv)\n",
    "\n",
    "#             # Launch Site\n",
    "#             if row[2].a:\n",
    "#                 launch_site = row[2].a.string\n",
    "#             else:\n",
    "#                 launch_site = None\n",
    "#             launch_dict['Launch site'].append(launch_site)\n",
    "\n",
    "#             # Payload\n",
    "#             if row[3].a:\n",
    "#                 payload = row[3].a.string\n",
    "#             else:\n",
    "#                 payload = None\n",
    "#             launch_dict['Payload'].append(payload)\n",
    "\n",
    "#             # Payload Mass\n",
    "#             payload_mass = get_mass(row[4])\n",
    "#             launch_dict['Payload mass'].append(payload_mass)\n",
    "\n",
    "#             # Orbit\n",
    "#             if row[5].a:\n",
    "#                 orbit = row[5].a.string\n",
    "#             else:\n",
    "#                 orbit = None\n",
    "#             launch_dict['Orbit'].append(orbit)\n",
    "\n",
    "#             # Customer\n",
    "#             if row[6].a:\n",
    "#                 customer = row[6].a.string\n",
    "#             else:\n",
    "#                 customer = None\n",
    "#             launch_dict['Customer'].append(customer)\n",
    "\n",
    "#             # Launch Outcome\n",
    "#             if row[7].strings:\n",
    "#                 launch_outcome = list(row[7].strings)[0]\n",
    "#             else:\n",
    "#                 launch_outcome = None\n",
    "#             launch_dict['Launchoutcome'].append(launch_outcome)\n",
    "\n",
    "#             # Booster Landing\n",
    "#             booster_landing = landing_status(row[8])\n",
    "#             launch_dict['Booster landing'].append(booster_landing)\n",
    "\n",
    "# # Print the number of entries for each field\n",
    "# for key, value in launch_dict.items():\n",
    "#     print(f\"{key}: {len(value)} entries\")\n",
    "#all of the entries have diffrent numbers"
   ]
  },
  {
   "cell_type": "code",
   "execution_count": 202,
   "metadata": {},
   "outputs": [
    {
     "name": "stdout",
     "output_type": "stream",
     "text": [
      "Flight No.: 121 entries\n",
      "Launch site: 121 entries\n",
      "Payload mass: 121 entries\n",
      "Orbit: 121 entries\n",
      "Customer: 121 entries\n",
      "Launchoutcome: 121 entries\n",
      "Payload: 121 entries\n",
      "Version Booster: 121 entries\n",
      "Booster landing: 121 entries\n",
      "Date: 121 entries\n",
      "Time: 121 entries\n"
     ]
    }
   ],
   "source": [
    "#use this- limits to past launches - table format changes after flight 121\n",
    "\n",
    "# Initialize the launch_dict to store data\n",
    "launch_dict = {'Flight No.': [], 'Launch site': [], 'Payload mass': [], 'Orbit': [], 'Customer': [], 'Launchoutcome': [], 'Payload': [], 'Version Booster': [], 'Booster landing': [], 'Date': [], 'Time': []}\n",
    "\n",
    "# Counter for extracted rows\n",
    "extracted_row = 0\n",
    "max_entries = 121  # Limit to the first 121 entries\n",
    "\n",
    "# Extract each table\n",
    "for table_number, table in enumerate(soup.find_all('table', \"wikitable plainrowheaders collapsible\")):\n",
    "    # Get table rows\n",
    "    for rows in table.find_all(\"tr\"):\n",
    "        # Stop extracting if we reach the limit of 121 entries\n",
    "        if extracted_row >= max_entries:\n",
    "            break\n",
    "\n",
    "        # Check if first table heading corresponds to a launch number\n",
    "        if rows.th:\n",
    "            if rows.th.string:\n",
    "                flight_number = rows.th.string.strip()\n",
    "                flag = flight_number.isdigit()  # Ensure it's a valid flight number\n",
    "        else:\n",
    "            flag = False\n",
    "\n",
    "        # Get table element (td elements)\n",
    "        row = rows.find_all('td')\n",
    "\n",
    "        # If it is a number, save cells in launch_dict\n",
    "        if flag:\n",
    "            extracted_row += 1  # Increment row counter\n",
    "\n",
    "            # Extract data and append to the corresponding lists in launch_dict\n",
    "\n",
    "            # Flight Number\n",
    "            launch_dict['Flight No.'].append(flight_number)\n",
    "\n",
    "            # Get date and time from the first cell\n",
    "            datatimelist = date_time(row[0])\n",
    "            date = datatimelist[0].strip(',')\n",
    "            time = datatimelist[1]\n",
    "\n",
    "            # Date and Time\n",
    "            launch_dict['Date'].append(date)\n",
    "            launch_dict['Time'].append(time)\n",
    "\n",
    "            # Version Booster\n",
    "            bv = booster_version(row[1])\n",
    "            launch_dict['Version Booster'].append(bv)\n",
    "\n",
    "            # Launch Site\n",
    "            if row[2].a:\n",
    "                launch_site = row[2].a.string\n",
    "            else:\n",
    "                launch_site = None\n",
    "            launch_dict['Launch site'].append(launch_site)\n",
    "\n",
    "            # Payload\n",
    "            if row[3].a:\n",
    "                payload = row[3].a.string\n",
    "            else:\n",
    "                payload = None\n",
    "            launch_dict['Payload'].append(payload)\n",
    "\n",
    "            # Payload Mass\n",
    "            payload_mass = get_mass(row[4])\n",
    "            launch_dict['Payload mass'].append(payload_mass)\n",
    "\n",
    "            # Orbit\n",
    "            if row[5].a:\n",
    "                orbit = row[5].a.string\n",
    "            else:\n",
    "                orbit = None\n",
    "            launch_dict['Orbit'].append(orbit)\n",
    "\n",
    "            # Customer\n",
    "            if row[6].a:\n",
    "                customer = row[6].a.string\n",
    "            else:\n",
    "                customer = None\n",
    "            launch_dict['Customer'].append(customer)\n",
    "\n",
    "            # Launch Outcome\n",
    "            if row[7].strings:\n",
    "                launch_outcome = list(row[7].strings)[0]\n",
    "            else:\n",
    "                launch_outcome = None\n",
    "            launch_dict['Launchoutcome'].append(launch_outcome)\n",
    "\n",
    "            # Booster Landing\n",
    "            booster_landing = landing_status(row[8])\n",
    "            launch_dict['Booster landing'].append(booster_landing)\n",
    "\n",
    "# Print the number of entries for each field after processing the first 121 rows\n",
    "for key, value in launch_dict.items():\n",
    "    print(f\"{key}: {len(value)} entries\")\n"
   ]
  },
  {
   "cell_type": "code",
   "execution_count": null,
   "metadata": {},
   "outputs": [],
   "source": [
    "#DONT USE DOESN\"T LIMIT ENTRIES_ USE CODE ABOVE\n",
    "# #probelm as table chage after flight 103??- requires some work...\n",
    "# extracted_row = 0\n",
    "# #Extract each table \n",
    "# for table_number,table in enumerate(soup.find_all('table',\"wikitable plainrowheaders collapsible\")):\n",
    "#    # get table row \n",
    "#     for rows in table.find_all(\"tr\"):\n",
    "#         #check to see if first table heading is as number corresponding to launch a number \n",
    "#         if rows.th:\n",
    "#             if rows.th.string:\n",
    "#                 flight_number=rows.th.string.strip()\n",
    "#                 flag=flight_number.isdigit()\n",
    "#         else:\n",
    "#             flag=False\n",
    "       \n",
    "#         #get table element \n",
    "#         row=rows.find_all('td')\n",
    "       \n",
    "#         #if it is number save cells in a dictonary \n",
    "#         if flag:\n",
    "#             extracted_row += 1\n",
    "           \n",
    "#             # Flight Number value\n",
    "#             # TODO: Append the flight_number into launch_dict with key `Flight No.`\n",
    "#             launch_dict['Flight No.'].append(flight_number)\n",
    "#             # print(flight_number)\n",
    "            \n",
    "#             # Get date and time from the first cell\n",
    "#             datatimelist=date_time(row[0])\n",
    "#             # print(datatimelist)\n",
    "            \n",
    "#             # # Date value\n",
    "#             # # TODO: Append the date into launch_dict with key `Date`\n",
    "#             date = datatimelist[0].strip(',')\n",
    "#             # print(date)\n",
    "#             launch_dict['Date'].append(date)\n",
    "\n",
    "            \n",
    "#             # # Time value\n",
    "#             # # TODO: Append the time into launch_dict with key `Time`\n",
    "#             time = datatimelist[1]\n",
    "#             # print(time)\n",
    "#             launch_dict['Time'].append(time)  # Combine date and time\n",
    "              \n",
    "#             # Booster version\n",
    "#             # TODO: Append the bv into launch_dict with key `Version Booster`\n",
    "#             bv=booster_version(row[1])\n",
    "#             # print(bv)                \n",
    "#             launch_dict['Version Booster'].append(bv)\n",
    "            \n",
    "            \n",
    "#             # # Launch Site\n",
    "#             # # TODO: Append the launch_site into launch_dict with key `Launch Site\n",
    "#             #a.sting looks for first anchor tag string description`\n",
    "#             if row[2].a:  # Check if there's an anchor tag\n",
    "#                  launch_site = row[2].a.string\n",
    "#             else:\n",
    "#                  launch_site = None  # Fallback if no anchor tag exists\n",
    "#             # print(launch_site)\n",
    "#             launch_dict['Launch site'].append(launch_site)\n",
    "           \n",
    "            \n",
    "#             # # Payload\n",
    "#             # # TODO: Append the payload into launch_dict with key `Payload`\n",
    "#             if row[3].a:\n",
    "#                payload = row[3].a.string  \n",
    "#             else:\n",
    "#                payload = None  # Fallback if no anchor tag exists\n",
    "#             # print(payload)\n",
    "#             launch_dict['Payload'].append(payload)\n",
    "             \n",
    "            \n",
    "#             # # Payload Mass\n",
    "#             # # TODO: Append the payload_mass into launch_dict with key `Payload mass`\n",
    "#             payload_mass = get_mass(row[4]) \n",
    "#             # print(payload_mass)\n",
    "#             launch_dict['Payload mass'].append(payload_mass)\n",
    "            \n",
    "            \n",
    "#             # # Orbit\n",
    "#             # # TODO: Append the orbit into launch_dict with key `Orbit`\n",
    "#             if row[5].a:\n",
    "#                 orbit = row[5].a.string\n",
    "#             else:\n",
    "#                orbit = None  # Fallback if no anchor tag exists\n",
    "#             # print(orbit)\n",
    "#             launch_dict['Orbit'].append(orbit)\n",
    "            \n",
    "            \n",
    "#             # # Customer\n",
    "#             # # TODO: Append the customer into launch_dict with key `Customer`\n",
    "#             if row[6].a:\n",
    "#                 customer = row[6].a.string   \n",
    "#             else:\n",
    "#                orbit = None  # Fallback if no anchor tag exists\n",
    "#             # print(customer)\n",
    "#             launch_dict['Customer'].append(customer)\n",
    "           \n",
    "            \n",
    "#             # Launch outcome\n",
    "#             # # TODO: Append the launch_outcome into launch_dict with key `Launch outcome`\n",
    "#             if row[7].strings:\n",
    "#                 launch_outcome = list(row[7].strings)[0]\n",
    "#             else:\n",
    "#                 launch_outcome = None  # Handle if no strings\n",
    "#             # print(launch_outcome)\n",
    "#             launch_dict['Launchoutcome'].append(launch_outcome)\n",
    "           \n",
    "            \n",
    "#             # # Booster landing\n",
    "#             # # TODO: Append the launch_outcome into launch_dict with key `Booster landing`\n",
    "#             booster_landing = landing_status(row[8])\n",
    "#             # print(booster_landing)\n",
    "#             launch_dict['Booster landing'].append(booster_landing)\n",
    "           \n",
    "            "
   ]
  },
  {
   "cell_type": "markdown",
   "metadata": {},
   "source": [
    "After you have fill in the parsed launch record values into `launch_dict`, you can create a dataframe from it.\n"
   ]
  },
  {
   "cell_type": "code",
   "execution_count": 204,
   "metadata": {},
   "outputs": [
    {
     "name": "stdout",
     "output_type": "stream",
     "text": [
      "Flight No.: 121\n",
      "Launch site: 121\n",
      "Payload mass: 121\n",
      "Orbit: 121\n",
      "Customer: 121\n",
      "Launchoutcome: 121\n",
      "Payload: 121\n",
      "Version Booster: 121\n",
      "Booster landing: 121\n",
      "Date: 121\n",
      "Time: 121\n"
     ]
    }
   ],
   "source": [
    "for key, value in launch_dict.items():\n",
    "    print(f\"{key}: {len(value)}\")\n"
   ]
  },
  {
   "cell_type": "code",
   "execution_count": 206,
   "metadata": {},
   "outputs": [],
   "source": [
    "df= pd.DataFrame({ key:pd.Series(value) for key, value in launch_dict.items() })"
   ]
  },
  {
   "cell_type": "markdown",
   "metadata": {},
   "source": [
    "We can now export it to a <b>CSV</b> for the next section, but to make the answers consistent and in case you have difficulties finishing this lab. \n",
    "\n",
    "Following labs will be using a provided dataset to make each lab independent. \n"
   ]
  },
  {
   "cell_type": "code",
   "execution_count": 208,
   "metadata": {},
   "outputs": [
    {
     "data": {
      "text/html": [
       "<div>\n",
       "<style scoped>\n",
       "    .dataframe tbody tr th:only-of-type {\n",
       "        vertical-align: middle;\n",
       "    }\n",
       "\n",
       "    .dataframe tbody tr th {\n",
       "        vertical-align: top;\n",
       "    }\n",
       "\n",
       "    .dataframe thead th {\n",
       "        text-align: right;\n",
       "    }\n",
       "</style>\n",
       "<table border=\"1\" class=\"dataframe\">\n",
       "  <thead>\n",
       "    <tr style=\"text-align: right;\">\n",
       "      <th></th>\n",
       "      <th>Flight No.</th>\n",
       "      <th>Launch site</th>\n",
       "      <th>Payload mass</th>\n",
       "      <th>Orbit</th>\n",
       "      <th>Customer</th>\n",
       "      <th>Launchoutcome</th>\n",
       "      <th>Payload</th>\n",
       "      <th>Version Booster</th>\n",
       "      <th>Booster landing</th>\n",
       "      <th>Date</th>\n",
       "      <th>Time</th>\n",
       "    </tr>\n",
       "  </thead>\n",
       "  <tbody>\n",
       "    <tr>\n",
       "      <th>0</th>\n",
       "      <td>1</td>\n",
       "      <td>CCAFS</td>\n",
       "      <td>0</td>\n",
       "      <td>LEO</td>\n",
       "      <td>SpaceX</td>\n",
       "      <td>Success\\n</td>\n",
       "      <td>Dragon Spacecraft Qualification Unit</td>\n",
       "      <td>F9</td>\n",
       "      <td>Failure</td>\n",
       "      <td>4 June 2010</td>\n",
       "      <td>18:45</td>\n",
       "    </tr>\n",
       "    <tr>\n",
       "      <th>1</th>\n",
       "      <td>2</td>\n",
       "      <td>CCAFS</td>\n",
       "      <td>0</td>\n",
       "      <td>LEO</td>\n",
       "      <td>NASA</td>\n",
       "      <td>Success</td>\n",
       "      <td>Dragon</td>\n",
       "      <td>F9</td>\n",
       "      <td>Failure</td>\n",
       "      <td>8 December 2010</td>\n",
       "      <td>15:43</td>\n",
       "    </tr>\n",
       "    <tr>\n",
       "      <th>2</th>\n",
       "      <td>3</td>\n",
       "      <td>CCAFS</td>\n",
       "      <td>525 kg</td>\n",
       "      <td>LEO</td>\n",
       "      <td>NASA</td>\n",
       "      <td>Success</td>\n",
       "      <td>Dragon</td>\n",
       "      <td>F9</td>\n",
       "      <td>No attempt\\n</td>\n",
       "      <td>22 May 2012</td>\n",
       "      <td>07:44</td>\n",
       "    </tr>\n",
       "    <tr>\n",
       "      <th>3</th>\n",
       "      <td>4</td>\n",
       "      <td>CCAFS</td>\n",
       "      <td>4,700 kg</td>\n",
       "      <td>LEO</td>\n",
       "      <td>NASA</td>\n",
       "      <td>Success\\n</td>\n",
       "      <td>SpaceX CRS-1</td>\n",
       "      <td>F9</td>\n",
       "      <td>No attempt</td>\n",
       "      <td>8 October 2012</td>\n",
       "      <td>00:35</td>\n",
       "    </tr>\n",
       "    <tr>\n",
       "      <th>4</th>\n",
       "      <td>5</td>\n",
       "      <td>CCAFS</td>\n",
       "      <td>4,877 kg</td>\n",
       "      <td>LEO</td>\n",
       "      <td>NASA</td>\n",
       "      <td>Success\\n</td>\n",
       "      <td>SpaceX CRS-2</td>\n",
       "      <td>F9</td>\n",
       "      <td>No attempt\\n</td>\n",
       "      <td>1 March 2013</td>\n",
       "      <td>15:10</td>\n",
       "    </tr>\n",
       "    <tr>\n",
       "      <th>5</th>\n",
       "      <td>6</td>\n",
       "      <td>VAFB</td>\n",
       "      <td>500 kg</td>\n",
       "      <td>Polar orbit</td>\n",
       "      <td>MDA</td>\n",
       "      <td>Success</td>\n",
       "      <td>CASSIOPE</td>\n",
       "      <td>F9</td>\n",
       "      <td>Uncontrolled</td>\n",
       "      <td>29 September 2013</td>\n",
       "      <td>16:00</td>\n",
       "    </tr>\n",
       "    <tr>\n",
       "      <th>6</th>\n",
       "      <td>7</td>\n",
       "      <td>CCAFS</td>\n",
       "      <td>3,170 kg</td>\n",
       "      <td>GTO</td>\n",
       "      <td>SES</td>\n",
       "      <td>Success</td>\n",
       "      <td>SES-8</td>\n",
       "      <td>F9</td>\n",
       "      <td>No attempt</td>\n",
       "      <td>3 December 2013</td>\n",
       "      <td>22:41</td>\n",
       "    </tr>\n",
       "    <tr>\n",
       "      <th>7</th>\n",
       "      <td>8</td>\n",
       "      <td>CCAFS</td>\n",
       "      <td>3,325 kg</td>\n",
       "      <td>GTO</td>\n",
       "      <td>Thaicom</td>\n",
       "      <td>Success</td>\n",
       "      <td>Thaicom 6</td>\n",
       "      <td>F9</td>\n",
       "      <td>No attempt</td>\n",
       "      <td>6 January 2014</td>\n",
       "      <td>22:06</td>\n",
       "    </tr>\n",
       "    <tr>\n",
       "      <th>8</th>\n",
       "      <td>9</td>\n",
       "      <td>Cape Canaveral</td>\n",
       "      <td>2,296 kg</td>\n",
       "      <td>LEO</td>\n",
       "      <td>NASA</td>\n",
       "      <td>Success\\n</td>\n",
       "      <td>SpaceX CRS-3</td>\n",
       "      <td>F9</td>\n",
       "      <td>Controlled</td>\n",
       "      <td>18 April 2014</td>\n",
       "      <td>19:25</td>\n",
       "    </tr>\n",
       "    <tr>\n",
       "      <th>9</th>\n",
       "      <td>10</td>\n",
       "      <td>Cape Canaveral</td>\n",
       "      <td>1,316 kg</td>\n",
       "      <td>LEO</td>\n",
       "      <td>Orbcomm</td>\n",
       "      <td>Success</td>\n",
       "      <td>Orbcomm-OG2</td>\n",
       "      <td>F9</td>\n",
       "      <td>Controlled</td>\n",
       "      <td>14 July 2014</td>\n",
       "      <td>15:15</td>\n",
       "    </tr>\n",
       "    <tr>\n",
       "      <th>10</th>\n",
       "      <td>11</td>\n",
       "      <td>Cape Canaveral</td>\n",
       "      <td>4,535 kg</td>\n",
       "      <td>GTO</td>\n",
       "      <td>AsiaSat</td>\n",
       "      <td>Success</td>\n",
       "      <td>AsiaSat 8</td>\n",
       "      <td>F9</td>\n",
       "      <td>No attempt</td>\n",
       "      <td>5 August 2014</td>\n",
       "      <td>08:00</td>\n",
       "    </tr>\n",
       "    <tr>\n",
       "      <th>11</th>\n",
       "      <td>12</td>\n",
       "      <td>Cape Canaveral</td>\n",
       "      <td>4,428 kg</td>\n",
       "      <td>GTO</td>\n",
       "      <td>AsiaSat</td>\n",
       "      <td>Success</td>\n",
       "      <td>AsiaSat 6</td>\n",
       "      <td>F9</td>\n",
       "      <td>No attempt\\n</td>\n",
       "      <td>7 September 2014</td>\n",
       "      <td>05:00</td>\n",
       "    </tr>\n",
       "    <tr>\n",
       "      <th>12</th>\n",
       "      <td>13</td>\n",
       "      <td>Cape Canaveral</td>\n",
       "      <td>2,216 kg</td>\n",
       "      <td>LEO</td>\n",
       "      <td>NASA</td>\n",
       "      <td>Success</td>\n",
       "      <td>SpaceX CRS-4</td>\n",
       "      <td>F9</td>\n",
       "      <td>Uncontrolled</td>\n",
       "      <td>21 September 2014</td>\n",
       "      <td>05:52</td>\n",
       "    </tr>\n",
       "    <tr>\n",
       "      <th>13</th>\n",
       "      <td>14</td>\n",
       "      <td>Cape Canaveral</td>\n",
       "      <td>2,395 kg</td>\n",
       "      <td>LEO</td>\n",
       "      <td>NASA</td>\n",
       "      <td>Success</td>\n",
       "      <td>SpaceX CRS-5</td>\n",
       "      <td>F9</td>\n",
       "      <td>Failure</td>\n",
       "      <td>10 January 2015</td>\n",
       "      <td>09:47</td>\n",
       "    </tr>\n",
       "    <tr>\n",
       "      <th>14</th>\n",
       "      <td>15</td>\n",
       "      <td>Cape Canaveral</td>\n",
       "      <td>570 kg</td>\n",
       "      <td>HEO</td>\n",
       "      <td>USAF</td>\n",
       "      <td>Success\\n</td>\n",
       "      <td>DSCOVR</td>\n",
       "      <td>F9</td>\n",
       "      <td>Controlled</td>\n",
       "      <td>11 February 2015</td>\n",
       "      <td>23:03</td>\n",
       "    </tr>\n",
       "  </tbody>\n",
       "</table>\n",
       "</div>"
      ],
      "text/plain": [
       "   Flight No.     Launch site Payload mass        Orbit Customer  \\\n",
       "0           1           CCAFS            0          LEO   SpaceX   \n",
       "1           2           CCAFS            0          LEO     NASA   \n",
       "2           3           CCAFS       525 kg          LEO     NASA   \n",
       "3           4           CCAFS     4,700 kg          LEO     NASA   \n",
       "4           5           CCAFS     4,877 kg          LEO     NASA   \n",
       "5           6            VAFB       500 kg  Polar orbit      MDA   \n",
       "6           7           CCAFS     3,170 kg          GTO      SES   \n",
       "7           8           CCAFS     3,325 kg          GTO  Thaicom   \n",
       "8           9  Cape Canaveral     2,296 kg          LEO     NASA   \n",
       "9          10  Cape Canaveral     1,316 kg          LEO  Orbcomm   \n",
       "10         11  Cape Canaveral     4,535 kg          GTO  AsiaSat   \n",
       "11         12  Cape Canaveral     4,428 kg          GTO  AsiaSat   \n",
       "12         13  Cape Canaveral     2,216 kg          LEO     NASA   \n",
       "13         14  Cape Canaveral     2,395 kg          LEO     NASA   \n",
       "14         15  Cape Canaveral       570 kg          HEO     USAF   \n",
       "\n",
       "   Launchoutcome                               Payload Version Booster  \\\n",
       "0      Success\\n  Dragon Spacecraft Qualification Unit              F9   \n",
       "1        Success                                Dragon              F9   \n",
       "2        Success                                Dragon              F9   \n",
       "3      Success\\n                          SpaceX CRS-1              F9   \n",
       "4      Success\\n                          SpaceX CRS-2              F9   \n",
       "5        Success                              CASSIOPE              F9   \n",
       "6        Success                                 SES-8              F9   \n",
       "7        Success                             Thaicom 6              F9   \n",
       "8      Success\\n                          SpaceX CRS-3              F9   \n",
       "9        Success                           Orbcomm-OG2              F9   \n",
       "10       Success                             AsiaSat 8              F9   \n",
       "11       Success                             AsiaSat 6              F9   \n",
       "12       Success                          SpaceX CRS-4              F9   \n",
       "13       Success                          SpaceX CRS-5              F9   \n",
       "14     Success\\n                                DSCOVR              F9   \n",
       "\n",
       "   Booster landing               Date   Time  \n",
       "0          Failure        4 June 2010  18:45  \n",
       "1          Failure    8 December 2010  15:43  \n",
       "2     No attempt\\n        22 May 2012  07:44  \n",
       "3       No attempt     8 October 2012  00:35  \n",
       "4     No attempt\\n       1 March 2013  15:10  \n",
       "5     Uncontrolled  29 September 2013  16:00  \n",
       "6       No attempt    3 December 2013  22:41  \n",
       "7       No attempt     6 January 2014  22:06  \n",
       "8       Controlled      18 April 2014  19:25  \n",
       "9       Controlled       14 July 2014  15:15  \n",
       "10      No attempt      5 August 2014  08:00  \n",
       "11    No attempt\\n   7 September 2014  05:00  \n",
       "12    Uncontrolled  21 September 2014  05:52  \n",
       "13        Failure     10 January 2015  09:47  \n",
       "14      Controlled   11 February 2015  23:03  "
      ]
     },
     "execution_count": 208,
     "metadata": {},
     "output_type": "execute_result"
    }
   ],
   "source": [
    "df.head(15)"
   ]
  },
  {
   "cell_type": "code",
   "execution_count": 210,
   "metadata": {},
   "outputs": [
    {
     "data": {
      "text/html": [
       "<div>\n",
       "<style scoped>\n",
       "    .dataframe tbody tr th:only-of-type {\n",
       "        vertical-align: middle;\n",
       "    }\n",
       "\n",
       "    .dataframe tbody tr th {\n",
       "        vertical-align: top;\n",
       "    }\n",
       "\n",
       "    .dataframe thead th {\n",
       "        text-align: right;\n",
       "    }\n",
       "</style>\n",
       "<table border=\"1\" class=\"dataframe\">\n",
       "  <thead>\n",
       "    <tr style=\"text-align: right;\">\n",
       "      <th></th>\n",
       "      <th>Flight No.</th>\n",
       "      <th>Launch site</th>\n",
       "      <th>Payload mass</th>\n",
       "      <th>Orbit</th>\n",
       "      <th>Customer</th>\n",
       "      <th>Launchoutcome</th>\n",
       "      <th>Payload</th>\n",
       "      <th>Version Booster</th>\n",
       "      <th>Booster landing</th>\n",
       "      <th>Date</th>\n",
       "      <th>Time</th>\n",
       "    </tr>\n",
       "  </thead>\n",
       "  <tbody>\n",
       "    <tr>\n",
       "      <th>116</th>\n",
       "      <td>117</td>\n",
       "      <td>CCSFS</td>\n",
       "      <td>15,600 kg</td>\n",
       "      <td>LEO</td>\n",
       "      <td>SpaceX</td>\n",
       "      <td>Success\\n</td>\n",
       "      <td>Starlink</td>\n",
       "      <td>F9</td>\n",
       "      <td>Success</td>\n",
       "      <td>9 May 2021</td>\n",
       "      <td>06:42</td>\n",
       "    </tr>\n",
       "    <tr>\n",
       "      <th>117</th>\n",
       "      <td>118</td>\n",
       "      <td>KSC</td>\n",
       "      <td>~14,000 kg</td>\n",
       "      <td>LEO</td>\n",
       "      <td>SpaceX</td>\n",
       "      <td>Success\\n</td>\n",
       "      <td>Starlink</td>\n",
       "      <td>F9</td>\n",
       "      <td>Success</td>\n",
       "      <td>15 May 2021</td>\n",
       "      <td>22:56</td>\n",
       "    </tr>\n",
       "    <tr>\n",
       "      <th>118</th>\n",
       "      <td>119</td>\n",
       "      <td>CCSFS</td>\n",
       "      <td>15,600 kg</td>\n",
       "      <td>LEO</td>\n",
       "      <td>SpaceX</td>\n",
       "      <td>Success\\n</td>\n",
       "      <td>Starlink</td>\n",
       "      <td>F9</td>\n",
       "      <td>Success</td>\n",
       "      <td>26 May 2021</td>\n",
       "      <td>18:59</td>\n",
       "    </tr>\n",
       "    <tr>\n",
       "      <th>119</th>\n",
       "      <td>120</td>\n",
       "      <td>KSC</td>\n",
       "      <td>3,328 kg</td>\n",
       "      <td>LEO</td>\n",
       "      <td>NASA</td>\n",
       "      <td>Success\\n</td>\n",
       "      <td>SpaceX CRS-22</td>\n",
       "      <td>F9</td>\n",
       "      <td>Success</td>\n",
       "      <td>3 June 2021</td>\n",
       "      <td>17:29</td>\n",
       "    </tr>\n",
       "    <tr>\n",
       "      <th>120</th>\n",
       "      <td>121</td>\n",
       "      <td>CCSFS</td>\n",
       "      <td>7,000 kg</td>\n",
       "      <td>GTO</td>\n",
       "      <td>Sirius XM</td>\n",
       "      <td>Success\\n</td>\n",
       "      <td>SXM-8</td>\n",
       "      <td>F9</td>\n",
       "      <td>Success</td>\n",
       "      <td>6 June 2021</td>\n",
       "      <td>04:26</td>\n",
       "    </tr>\n",
       "  </tbody>\n",
       "</table>\n",
       "</div>"
      ],
      "text/plain": [
       "    Flight No. Launch site Payload mass Orbit   Customer Launchoutcome  \\\n",
       "116        117       CCSFS    15,600 kg   LEO     SpaceX     Success\\n   \n",
       "117        118         KSC   ~14,000 kg   LEO     SpaceX     Success\\n   \n",
       "118        119       CCSFS    15,600 kg   LEO     SpaceX     Success\\n   \n",
       "119        120         KSC     3,328 kg   LEO       NASA     Success\\n   \n",
       "120        121       CCSFS     7,000 kg   GTO  Sirius XM     Success\\n   \n",
       "\n",
       "           Payload Version Booster Booster landing         Date   Time  \n",
       "116       Starlink              F9         Success   9 May 2021  06:42  \n",
       "117       Starlink              F9         Success  15 May 2021  22:56  \n",
       "118       Starlink              F9         Success  26 May 2021  18:59  \n",
       "119  SpaceX CRS-22              F9         Success  3 June 2021  17:29  \n",
       "120          SXM-8              F9         Success  6 June 2021  04:26  "
      ]
     },
     "execution_count": 210,
     "metadata": {},
     "output_type": "execute_result"
    }
   ],
   "source": [
    "df.tail()"
   ]
  },
  {
   "cell_type": "code",
   "execution_count": 212,
   "metadata": {},
   "outputs": [
    {
     "name": "stdout",
     "output_type": "stream",
     "text": [
      "DataFrame saved to C:\\Users\\Raegan\\Downloads\\AppliedDataScinece_SpaceXProj_Webscraped_Part2.csv\n"
     ]
    }
   ],
   "source": [
    "#original file download\n",
    "# filepath ='https://cf-courses-data.s3.us.cloud-object-storage.appdomain.cloud/IBM-DS0321EN-SkillsNetwork/datasets/API_call_spacex_api.json'\n",
    "# df_original = pd.read_json(filepath)\n",
    "file_path = r\"C:\\Users\\Raegan\\Downloads\\AppliedDataScinece_SpaceXProj_Webscraped_Part2.csv\"  #remname file\n",
    "try:\n",
    "    df.to_csv(file_path, index=False)\n",
    "    print(f'DataFrame saved to {file_path}')\n",
    "except Exception as e:\n",
    "    print(f'An error occurred: {e}')"
   ]
  },
  {
   "cell_type": "markdown",
   "metadata": {},
   "source": [
    "<code>df.to_csv('spacex_web_scraped.csv', index=False)</code>\n"
   ]
  },
  {
   "cell_type": "markdown",
   "metadata": {},
   "source": [
    "## Authors\n"
   ]
  },
  {
   "cell_type": "markdown",
   "metadata": {},
   "source": [
    "<a href=\"https://www.linkedin.com/in/yan-luo-96288783/\">Yan Luo</a>\n"
   ]
  },
  {
   "cell_type": "markdown",
   "metadata": {},
   "source": [
    "<a href=\"https://www.linkedin.com/in/nayefaboutayoun/\">Nayef Abou Tayoun</a>\n"
   ]
  },
  {
   "cell_type": "markdown",
   "metadata": {},
   "source": [
    "<!--\n",
    "## Change Log\n",
    "-->\n"
   ]
  },
  {
   "cell_type": "markdown",
   "metadata": {},
   "source": [
    "<!--\n",
    "| Date (YYYY-MM-DD) | Version | Changed By | Change Description      |\n",
    "| ----------------- | ------- | ---------- | ----------------------- |\n",
    "| 2021-06-09        | 1.0     | Yan Luo    | Tasks updates           |\n",
    "| 2020-11-10        | 1.0     | Nayef      | Created the initial version |\n",
    "-->\n"
   ]
  },
  {
   "cell_type": "markdown",
   "metadata": {},
   "source": [
    "Copyright © 2021 IBM Corporation. All rights reserved.\n"
   ]
  }
 ],
 "metadata": {
  "kernelspec": {
   "display_name": "Python 3 (ipykernel)",
   "language": "python",
   "name": "python3"
  },
  "language_info": {
   "codemirror_mode": {
    "name": "ipython",
    "version": 3
   },
   "file_extension": ".py",
   "mimetype": "text/x-python",
   "name": "python",
   "nbconvert_exporter": "python",
   "pygments_lexer": "ipython3",
   "version": "3.12.3"
  },
  "prev_pub_hash": "64f1b0aac408997185c47caba18730e0028b75e7934a0e5bf0ae73c5cb7ba677"
 },
 "nbformat": 4,
 "nbformat_minor": 4
}
