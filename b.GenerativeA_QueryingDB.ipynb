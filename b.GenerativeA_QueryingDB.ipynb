{
 "cells": [
  {
   "cell_type": "code",
   "execution_count": 2,
   "id": "4ddaad09-b910-43d6-af80-72cb8cc5547a",
   "metadata": {},
   "outputs": [
    {
     "name": "stdout",
     "output_type": "stream",
     "text": [
      "Collecting ucimlrepo\n",
      "  Downloading ucimlrepo-0.0.7-py3-none-any.whl.metadata (5.5 kB)\n",
      "Requirement already satisfied: pandas>=1.0.0 in c:\\users\\raegan\\anaconda3\\lib\\site-packages (from ucimlrepo) (2.2.2)\n",
      "Requirement already satisfied: certifi>=2020.12.5 in c:\\users\\raegan\\anaconda3\\lib\\site-packages (from ucimlrepo) (2023.11.17)\n",
      "Requirement already satisfied: numpy>=1.26.0 in c:\\users\\raegan\\anaconda3\\lib\\site-packages (from pandas>=1.0.0->ucimlrepo) (1.26.4)\n",
      "Requirement already satisfied: python-dateutil>=2.8.2 in c:\\users\\raegan\\anaconda3\\lib\\site-packages (from pandas>=1.0.0->ucimlrepo) (2.9.0.post0)\n",
      "Requirement already satisfied: pytz>=2020.1 in c:\\users\\raegan\\anaconda3\\lib\\site-packages (from pandas>=1.0.0->ucimlrepo) (2024.1)\n",
      "Requirement already satisfied: tzdata>=2022.7 in c:\\users\\raegan\\anaconda3\\lib\\site-packages (from pandas>=1.0.0->ucimlrepo) (2023.3)\n",
      "Requirement already satisfied: six>=1.5 in c:\\users\\raegan\\anaconda3\\lib\\site-packages (from python-dateutil>=2.8.2->pandas>=1.0.0->ucimlrepo) (1.16.0)\n",
      "Downloading ucimlrepo-0.0.7-py3-none-any.whl (8.0 kB)\n",
      "Installing collected packages: ucimlrepo\n",
      "Successfully installed ucimlrepo-0.0.7\n",
      "Note: you may need to restart the kernel to use updated packages.\n"
     ]
    }
   ],
   "source": [
    "pip install ucimlrepo"
   ]
  },
  {
   "cell_type": "code",
   "execution_count": 4,
   "id": "cdba4f2d-94a5-4a56-84a4-6e13acafbc72",
   "metadata": {},
   "outputs": [
    {
     "name": "stdout",
     "output_type": "stream",
     "text": [
      "{'uci_id': 45, 'name': 'Heart Disease', 'repository_url': 'https://archive.ics.uci.edu/dataset/45/heart+disease', 'data_url': 'https://archive.ics.uci.edu/static/public/45/data.csv', 'abstract': '4 databases: Cleveland, Hungary, Switzerland, and the VA Long Beach', 'area': 'Health and Medicine', 'tasks': ['Classification'], 'characteristics': ['Multivariate'], 'num_instances': 303, 'num_features': 13, 'feature_types': ['Categorical', 'Integer', 'Real'], 'demographics': ['Age', 'Sex'], 'target_col': ['num'], 'index_col': None, 'has_missing_values': 'yes', 'missing_values_symbol': 'NaN', 'year_of_dataset_creation': 1989, 'last_updated': 'Fri Nov 03 2023', 'dataset_doi': '10.24432/C52P4X', 'creators': ['Andras Janosi', 'William Steinbrunn', 'Matthias Pfisterer', 'Robert Detrano'], 'intro_paper': {'ID': 231, 'type': 'NATIVE', 'title': 'International application of a new probability algorithm for the diagnosis of coronary artery disease.', 'authors': 'R. Detrano, A. Jánosi, W. Steinbrunn, M. Pfisterer, J. Schmid, S. Sandhu, K. Guppy, S. Lee, V. Froelicher', 'venue': 'American Journal of Cardiology', 'year': 1989, 'journal': None, 'DOI': None, 'URL': 'https://www.semanticscholar.org/paper/a7d714f8f87bfc41351eb5ae1e5472f0ebbe0574', 'sha': None, 'corpus': None, 'arxiv': None, 'mag': None, 'acl': None, 'pmid': '2756873', 'pmcid': None}, 'additional_info': {'summary': 'This database contains 76 attributes, but all published experiments refer to using a subset of 14 of them.  In particular, the Cleveland database is the only one that has been used by ML researchers to date.  The \"goal\" field refers to the presence of heart disease in the patient.  It is integer valued from 0 (no presence) to 4. Experiments with the Cleveland database have concentrated on simply attempting to distinguish presence (values 1,2,3,4) from absence (value 0).  \\n   \\nThe names and social security numbers of the patients were recently removed from the database, replaced with dummy values.\\n\\nOne file has been \"processed\", that one containing the Cleveland database.  All four unprocessed files also exist in this directory.\\n\\nTo see Test Costs (donated by Peter Turney), please see the folder \"Costs\" ', 'purpose': None, 'funded_by': None, 'instances_represent': None, 'recommended_data_splits': None, 'sensitive_data': None, 'preprocessing_description': None, 'variable_info': 'Only 14 attributes used:\\r\\n      1. #3  (age)       \\r\\n      2. #4  (sex)       \\r\\n      3. #9  (cp)        \\r\\n      4. #10 (trestbps)  \\r\\n      5. #12 (chol)      \\r\\n      6. #16 (fbs)       \\r\\n      7. #19 (restecg)   \\r\\n      8. #32 (thalach)   \\r\\n      9. #38 (exang)     \\r\\n      10. #40 (oldpeak)   \\r\\n      11. #41 (slope)     \\r\\n      12. #44 (ca)        \\r\\n      13. #51 (thal)      \\r\\n      14. #58 (num)       (the predicted attribute)\\r\\n\\r\\nComplete attribute documentation:\\r\\n      1 id: patient identification number\\r\\n      2 ccf: social security number (I replaced this with a dummy value of 0)\\r\\n      3 age: age in years\\r\\n      4 sex: sex (1 = male; 0 = female)\\r\\n      5 painloc: chest pain location (1 = substernal; 0 = otherwise)\\r\\n      6 painexer (1 = provoked by exertion; 0 = otherwise)\\r\\n      7 relrest (1 = relieved after rest; 0 = otherwise)\\r\\n      8 pncaden (sum of 5, 6, and 7)\\r\\n      9 cp: chest pain type\\r\\n        -- Value 1: typical angina\\r\\n        -- Value 2: atypical angina\\r\\n        -- Value 3: non-anginal pain\\r\\n        -- Value 4: asymptomatic\\r\\n     10 trestbps: resting blood pressure (in mm Hg on admission to the hospital)\\r\\n     11 htn\\r\\n     12 chol: serum cholestoral in mg/dl\\r\\n     13 smoke: I believe this is 1 = yes; 0 = no (is or is not a smoker)\\r\\n     14 cigs (cigarettes per day)\\r\\n     15 years (number of years as a smoker)\\r\\n     16 fbs: (fasting blood sugar > 120 mg/dl)  (1 = true; 0 = false)\\r\\n     17 dm (1 = history of diabetes; 0 = no such history)\\r\\n     18 famhist: family history of coronary artery disease (1 = yes; 0 = no)\\r\\n     19 restecg: resting electrocardiographic results\\r\\n        -- Value 0: normal\\r\\n        -- Value 1: having ST-T wave abnormality (T wave inversions and/or ST elevation or depression of > 0.05 mV)\\r\\n        -- Value 2: showing probable or definite left ventricular hypertrophy by Estes\\' criteria\\r\\n     20 ekgmo (month of exercise ECG reading)\\r\\n     21 ekgday(day of exercise ECG reading)\\r\\n     22 ekgyr (year of exercise ECG reading)\\r\\n     23 dig (digitalis used furing exercise ECG: 1 = yes; 0 = no)\\r\\n     24 prop (Beta blocker used during exercise ECG: 1 = yes; 0 = no)\\r\\n     25 nitr (nitrates used during exercise ECG: 1 = yes; 0 = no)\\r\\n     26 pro (calcium channel blocker used during exercise ECG: 1 = yes; 0 = no)\\r\\n     27 diuretic (diuretic used used during exercise ECG: 1 = yes; 0 = no)\\r\\n     28 proto: exercise protocol\\r\\n          1 = Bruce     \\r\\n          2 = Kottus\\r\\n          3 = McHenry\\r\\n          4 = fast Balke\\r\\n          5 = Balke\\r\\n          6 = Noughton \\r\\n          7 = bike 150 kpa min/min  (Not sure if \"kpa min/min\" is what was written!)\\r\\n          8 = bike 125 kpa min/min  \\r\\n          9 = bike 100 kpa min/min\\r\\n         10 = bike 75 kpa min/min\\r\\n         11 = bike 50 kpa min/min\\r\\n         12 = arm ergometer\\r\\n     29 thaldur: duration of exercise test in minutes\\r\\n     30 thaltime: time when ST measure depression was noted\\r\\n     31 met: mets achieved\\r\\n     32 thalach: maximum heart rate achieved\\r\\n     33 thalrest: resting heart rate\\r\\n     34 tpeakbps: peak exercise blood pressure (first of 2 parts)\\r\\n     35 tpeakbpd: peak exercise blood pressure (second of 2 parts)\\r\\n     36 dummy\\r\\n     37 trestbpd: resting blood pressure\\r\\n     38 exang: exercise induced angina (1 = yes; 0 = no)\\r\\n     39 xhypo: (1 = yes; 0 = no)\\r\\n     40 oldpeak = ST depression induced by exercise relative to rest\\r\\n     41 slope: the slope of the peak exercise ST segment\\r\\n        -- Value 1: upsloping\\r\\n        -- Value 2: flat\\r\\n        -- Value 3: downsloping\\r\\n     42 rldv5: height at rest\\r\\n     43 rldv5e: height at peak exercise\\r\\n     44 ca: number of major vessels (0-3) colored by flourosopy\\r\\n     45 restckm: irrelevant\\r\\n     46 exerckm: irrelevant\\r\\n     47 restef: rest raidonuclid (sp?) ejection fraction\\r\\n     48 restwm: rest wall (sp?) motion abnormality\\r\\n        0 = none\\r\\n        1 = mild or moderate\\r\\n        2 = moderate or severe\\r\\n        3 = akinesis or dyskmem (sp?)\\r\\n     49 exeref: exercise radinalid (sp?) ejection fraction\\r\\n     50 exerwm: exercise wall (sp?) motion \\r\\n     51 thal: 3 = normal; 6 = fixed defect; 7 = reversable defect\\r\\n     52 thalsev: not used\\r\\n     53 thalpul: not used\\r\\n     54 earlobe: not used\\r\\n     55 cmo: month of cardiac cath (sp?)  (perhaps \"call\")\\r\\n     56 cday: day of cardiac cath (sp?)\\r\\n     57 cyr: year of cardiac cath (sp?)\\r\\n     58 num: diagnosis of heart disease (angiographic disease status)\\r\\n        -- Value 0: < 50% diameter narrowing\\r\\n        -- Value 1: > 50% diameter narrowing\\r\\n        (in any major vessel: attributes 59 through 68 are vessels)\\r\\n     59 lmt\\r\\n     60 ladprox\\r\\n     61 laddist\\r\\n     62 diag\\r\\n     63 cxmain\\r\\n     64 ramus\\r\\n     65 om1\\r\\n     66 om2\\r\\n     67 rcaprox\\r\\n     68 rcadist\\r\\n     69 lvx1: not used\\r\\n     70 lvx2: not used\\r\\n     71 lvx3: not used\\r\\n     72 lvx4: not used\\r\\n     73 lvf: not used\\r\\n     74 cathef: not used\\r\\n     75 junk: not used\\r\\n     76 name: last name of patient  (I replaced this with the dummy string \"name\")', 'citation': None}}\n",
      "        name     role         type demographic  \\\n",
      "0        age  Feature      Integer         Age   \n",
      "1        sex  Feature  Categorical         Sex   \n",
      "2         cp  Feature  Categorical        None   \n",
      "3   trestbps  Feature      Integer        None   \n",
      "4       chol  Feature      Integer        None   \n",
      "5        fbs  Feature  Categorical        None   \n",
      "6    restecg  Feature  Categorical        None   \n",
      "7    thalach  Feature      Integer        None   \n",
      "8      exang  Feature  Categorical        None   \n",
      "9    oldpeak  Feature      Integer        None   \n",
      "10     slope  Feature  Categorical        None   \n",
      "11        ca  Feature      Integer        None   \n",
      "12      thal  Feature  Categorical        None   \n",
      "13       num   Target      Integer        None   \n",
      "\n",
      "                                          description  units missing_values  \n",
      "0                                                None  years             no  \n",
      "1                                                None   None             no  \n",
      "2                                                None   None             no  \n",
      "3   resting blood pressure (on admission to the ho...  mm Hg             no  \n",
      "4                                   serum cholestoral  mg/dl             no  \n",
      "5                     fasting blood sugar > 120 mg/dl   None             no  \n",
      "6                                                None   None             no  \n",
      "7                         maximum heart rate achieved   None             no  \n",
      "8                             exercise induced angina   None             no  \n",
      "9   ST depression induced by exercise relative to ...   None             no  \n",
      "10                                               None   None             no  \n",
      "11  number of major vessels (0-3) colored by flour...   None            yes  \n",
      "12                                               None   None            yes  \n",
      "13                         diagnosis of heart disease   None             no  \n"
     ]
    }
   ],
   "source": [
    "#data set\n",
    "#https://archive.ics.uci.edu/dataset/45/heart+disease \n",
    "\n",
    "from ucimlrepo import fetch_ucirepo \n",
    "  \n",
    "# fetch dataset \n",
    "heart_disease = fetch_ucirepo(id=45) \n",
    "  \n",
    "# data (as pandas dataframes) \n",
    "X = heart_disease.data.features \n",
    "y = heart_disease.data.targets \n",
    "  \n",
    "# metadata \n",
    "print(heart_disease.metadata) \n",
    "  \n",
    "# variable information \n",
    "print(heart_disease.variables) \n"
   ]
  },
  {
   "cell_type": "code",
   "execution_count": 22,
   "id": "616cc75f-7bd0-413a-8683-59c26a53d449",
   "metadata": {},
   "outputs": [
    {
     "data": {
      "text/html": [
       "<div>\n",
       "<style scoped>\n",
       "    .dataframe tbody tr th:only-of-type {\n",
       "        vertical-align: middle;\n",
       "    }\n",
       "\n",
       "    .dataframe tbody tr th {\n",
       "        vertical-align: top;\n",
       "    }\n",
       "\n",
       "    .dataframe thead th {\n",
       "        text-align: right;\n",
       "    }\n",
       "</style>\n",
       "<table border=\"1\" class=\"dataframe\">\n",
       "  <thead>\n",
       "    <tr style=\"text-align: right;\">\n",
       "      <th></th>\n",
       "      <th>age</th>\n",
       "      <th>sex</th>\n",
       "      <th>cp</th>\n",
       "      <th>trestbps</th>\n",
       "      <th>chol</th>\n",
       "      <th>fbs</th>\n",
       "      <th>restecg</th>\n",
       "      <th>thalach</th>\n",
       "      <th>exang</th>\n",
       "      <th>oldpeak</th>\n",
       "      <th>slope</th>\n",
       "      <th>ca</th>\n",
       "      <th>thal</th>\n",
       "    </tr>\n",
       "  </thead>\n",
       "  <tbody>\n",
       "    <tr>\n",
       "      <th>0</th>\n",
       "      <td>63</td>\n",
       "      <td>1</td>\n",
       "      <td>1</td>\n",
       "      <td>145</td>\n",
       "      <td>233</td>\n",
       "      <td>1</td>\n",
       "      <td>2</td>\n",
       "      <td>150</td>\n",
       "      <td>0</td>\n",
       "      <td>2.3</td>\n",
       "      <td>3</td>\n",
       "      <td>0.0</td>\n",
       "      <td>6.0</td>\n",
       "    </tr>\n",
       "    <tr>\n",
       "      <th>1</th>\n",
       "      <td>67</td>\n",
       "      <td>1</td>\n",
       "      <td>4</td>\n",
       "      <td>160</td>\n",
       "      <td>286</td>\n",
       "      <td>0</td>\n",
       "      <td>2</td>\n",
       "      <td>108</td>\n",
       "      <td>1</td>\n",
       "      <td>1.5</td>\n",
       "      <td>2</td>\n",
       "      <td>3.0</td>\n",
       "      <td>3.0</td>\n",
       "    </tr>\n",
       "    <tr>\n",
       "      <th>2</th>\n",
       "      <td>67</td>\n",
       "      <td>1</td>\n",
       "      <td>4</td>\n",
       "      <td>120</td>\n",
       "      <td>229</td>\n",
       "      <td>0</td>\n",
       "      <td>2</td>\n",
       "      <td>129</td>\n",
       "      <td>1</td>\n",
       "      <td>2.6</td>\n",
       "      <td>2</td>\n",
       "      <td>2.0</td>\n",
       "      <td>7.0</td>\n",
       "    </tr>\n",
       "    <tr>\n",
       "      <th>3</th>\n",
       "      <td>37</td>\n",
       "      <td>1</td>\n",
       "      <td>3</td>\n",
       "      <td>130</td>\n",
       "      <td>250</td>\n",
       "      <td>0</td>\n",
       "      <td>0</td>\n",
       "      <td>187</td>\n",
       "      <td>0</td>\n",
       "      <td>3.5</td>\n",
       "      <td>3</td>\n",
       "      <td>0.0</td>\n",
       "      <td>3.0</td>\n",
       "    </tr>\n",
       "    <tr>\n",
       "      <th>4</th>\n",
       "      <td>41</td>\n",
       "      <td>0</td>\n",
       "      <td>2</td>\n",
       "      <td>130</td>\n",
       "      <td>204</td>\n",
       "      <td>0</td>\n",
       "      <td>2</td>\n",
       "      <td>172</td>\n",
       "      <td>0</td>\n",
       "      <td>1.4</td>\n",
       "      <td>1</td>\n",
       "      <td>0.0</td>\n",
       "      <td>3.0</td>\n",
       "    </tr>\n",
       "  </tbody>\n",
       "</table>\n",
       "</div>"
      ],
      "text/plain": [
       "   age  sex  cp  trestbps  chol  fbs  restecg  thalach  exang  oldpeak  slope  \\\n",
       "0   63    1   1       145   233    1        2      150      0      2.3      3   \n",
       "1   67    1   4       160   286    0        2      108      1      1.5      2   \n",
       "2   67    1   4       120   229    0        2      129      1      2.6      2   \n",
       "3   37    1   3       130   250    0        0      187      0      3.5      3   \n",
       "4   41    0   2       130   204    0        2      172      0      1.4      1   \n",
       "\n",
       "    ca  thal  \n",
       "0  0.0   6.0  \n",
       "1  3.0   3.0  \n",
       "2  2.0   7.0  \n",
       "3  0.0   3.0  \n",
       "4  0.0   3.0  "
      ]
     },
     "execution_count": 22,
     "metadata": {},
     "output_type": "execute_result"
    }
   ],
   "source": [
    "X.head()\n",
    "# We have a Heart Disease prediction dataset with a single table which has the following attributes.\n",
    "# 1. age - age in years\n",
    "# 2. gender- gender (1 = male; 0 = female)\n",
    "# 3. cp - chest pain type\n",
    "#         -- Value 1: typical angina\n",
    "#         -- Value 2: atypical angina\n",
    "#         -- Value 3: non-anginal pain\n",
    "#         -- Value 4: asymptomatic\n",
    "# 4. trestbps - resting blood pressure (in mm Hg on admission to the hospital)\n",
    "# 5. chol - serum cholestoral in mg/dl\n",
    "# 6. fbs - (fasting blood sugar > 120 mg/dl)  (1 = true; 0 = false)\n",
    "# 7. restecg - resting electrocardiographic results\n",
    "#         -- Value 0: normal\n",
    "#         -- Value 1: having ST-T wave abnormality (T wave inversions and/or ST elevation or depression of > 0.05 mV)\n",
    "#         -- Value 2: showing probable or definite left ventricular hypertrophy by Estes' criteria\n",
    "# 8. thalach - maximum heart rate achieved\n",
    "# 9. exang - exercise induced angina (1 = yes; 0 = no)\n",
    "# 10. oldpeak - ST depression induced by exercise relative to rest\n",
    "# 11. slope - the slope of the peak exercise ST segment\n",
    "#         -- Value 1: upsloping\n",
    "#         -- Value 2: flat\n",
    "#         -- Value 3: downsloping\n",
    "# 12. ca - number of major vessels (0-3) colored by flourosopy\n",
    "# 13. thal - 3 = normal; 6 = fixed defect; 7 = reversable defect\n",
    "# 14. num (the predicted attribute) - diagnosis of heart disease (angiographic disease status)\n",
    "#         -- Value 0: < 50% diameter narrowing\n",
    "#         -- Value 1: > 50% diameter narrowing"
   ]
  },
  {
   "cell_type": "code",
   "execution_count": 26,
   "id": "a12ac285-bd90-4f32-9e03-0d1aab9e1044",
   "metadata": {},
   "outputs": [
    {
     "data": {
      "text/html": [
       "<div>\n",
       "<style scoped>\n",
       "    .dataframe tbody tr th:only-of-type {\n",
       "        vertical-align: middle;\n",
       "    }\n",
       "\n",
       "    .dataframe tbody tr th {\n",
       "        vertical-align: top;\n",
       "    }\n",
       "\n",
       "    .dataframe thead th {\n",
       "        text-align: right;\n",
       "    }\n",
       "</style>\n",
       "<table border=\"1\" class=\"dataframe\">\n",
       "  <thead>\n",
       "    <tr style=\"text-align: right;\">\n",
       "      <th></th>\n",
       "      <th>num</th>\n",
       "    </tr>\n",
       "  </thead>\n",
       "  <tbody>\n",
       "    <tr>\n",
       "      <th>0</th>\n",
       "      <td>0</td>\n",
       "    </tr>\n",
       "    <tr>\n",
       "      <th>1</th>\n",
       "      <td>2</td>\n",
       "    </tr>\n",
       "    <tr>\n",
       "      <th>2</th>\n",
       "      <td>1</td>\n",
       "    </tr>\n",
       "    <tr>\n",
       "      <th>3</th>\n",
       "      <td>0</td>\n",
       "    </tr>\n",
       "    <tr>\n",
       "      <th>4</th>\n",
       "      <td>0</td>\n",
       "    </tr>\n",
       "  </tbody>\n",
       "</table>\n",
       "</div>"
      ],
      "text/plain": [
       "   num\n",
       "0    0\n",
       "1    2\n",
       "2    1\n",
       "3    0\n",
       "4    0"
      ]
     },
     "execution_count": 26,
     "metadata": {},
     "output_type": "execute_result"
    }
   ],
   "source": [
    "y.head()"
   ]
  },
  {
   "cell_type": "code",
   "execution_count": 90,
   "id": "c924595f-30e5-4d65-8106-998b7c30c282",
   "metadata": {},
   "outputs": [
    {
     "data": {
      "text/plain": [
       "303"
      ]
     },
     "execution_count": 90,
     "metadata": {},
     "output_type": "execute_result"
    }
   ],
   "source": [
    "import pandas as pd\n",
    "import sqlite3  # Make sure to import sqlite3\n",
    "\n",
    "# Connect to SQLite database (create if it doesn't exist)\n",
    "conn = sqlite3.connect('heart_disease.db')\n",
    "\n",
    "# Write the DataFrame to the database (table name: 'patients')\n",
    "X.to_sql('patients', conn, if_exists='replace', index=False)"
   ]
  },
  {
   "cell_type": "code",
   "execution_count": 92,
   "id": "10b01b57-ec08-47c9-805d-f344a526c35f",
   "metadata": {},
   "outputs": [
    {
     "data": {
      "text/plain": [
       "303"
      ]
     },
     "execution_count": 92,
     "metadata": {},
     "output_type": "execute_result"
    }
   ],
   "source": [
    "conn = sqlite3.connect('heart_disease.db')\n",
    "\n",
    "# Write the DataFrame to the database (table name: 'patients')\n",
    "y.to_sql('heartdisease', conn, if_exists='replace', index=False)"
   ]
  },
  {
   "cell_type": "code",
   "execution_count": 34,
   "id": "5b4e4a97-2123-4a84-8951-a4a86e5d0ad5",
   "metadata": {},
   "outputs": [],
   "source": [
    "# SQL query\n",
    "query = \"\"\"\n",
    "SELECT \n",
    "    MIN(age) AS min_age,\n",
    "    MAX(age) AS max_age,\n",
    "    AVG(age) AS avg_age\n",
    "FROM \n",
    "    patients;\n",
    "\"\"\"\n",
    "\n",
    "# Execute the query and load results into a DataFrame\n",
    "result_df = pd.read_sql_query(query, conn)\n",
    "\n",
    "# Close the connection\n",
    "# conn.close()\n",
    "\n",
    "# Display the resul\n"
   ]
  },
  {
   "cell_type": "code",
   "execution_count": 36,
   "id": "01c73426-895d-47c6-b5cd-b1983d4bd569",
   "metadata": {},
   "outputs": [
    {
     "name": "stdout",
     "output_type": "stream",
     "text": [
      "   min_age  max_age    avg_age\n",
      "0       29       77  54.438944\n"
     ]
    }
   ],
   "source": [
    "print(result_df)"
   ]
  },
  {
   "cell_type": "code",
   "execution_count": 40,
   "id": "f11f8429-86f4-42a6-94f2-92d43cbe7bb2",
   "metadata": {},
   "outputs": [
    {
     "name": "stdout",
     "output_type": "stream",
     "text": [
      "   sex  patient_count\n",
      "0    0             97\n",
      "1    1            206\n"
     ]
    }
   ],
   "source": [
    "# Write and SQL query to count the number of male and female patients in the dataset.\n",
    "# Define the SQL query\n",
    "query = \"\"\"\n",
    "SELECT \n",
    "    sex, \n",
    "    COUNT(*) AS patient_count\n",
    "FROM \n",
    "    patients\n",
    "GROUP BY \n",
    "    sex;\n",
    "\"\"\"\n",
    "#1=male 0=femaale\n",
    "# Execute the query and load the result into a DataFrame\n",
    "gender_counts = pd.read_sql_query(query, conn)\n",
    "\n",
    "# Close the database connection\n",
    "# conn.close()\n",
    "\n",
    "# Display the counts\n",
    "print(gender_counts)"
   ]
  },
  {
   "cell_type": "code",
   "execution_count": 46,
   "id": "7e9be586-d0f3-4a2a-b15a-cde00fcb56f2",
   "metadata": {},
   "outputs": [
    {
     "name": "stdout",
     "output_type": "stream",
     "text": [
      "    chest_pain_type  frequency\n",
      "0      Asymptomatic        144\n",
      "1   Atypical Angina         50\n",
      "2  Non-Anginal Pain         86\n",
      "3    Typical Angina         23\n"
     ]
    }
   ],
   "source": [
    "# Write an SQL query to determine the frequency of each type of chest pain (typical angina, atypical angina, non-anginal pain, asymptomatic) among patients.\"\n",
    "# Define the SQL query\n",
    "\n",
    "query = \"\"\"\n",
    "SELECT \n",
    "    CASE \n",
    "        WHEN cp = 1 THEN 'Typical Angina'\n",
    "        WHEN cp = 2 THEN 'Atypical Angina'\n",
    "        WHEN cp = 3 THEN 'Non-Anginal Pain'\n",
    "        WHEN cp = 4 THEN 'Asymptomatic'\n",
    "    END AS chest_pain_type, \n",
    "    COUNT(*) AS frequency\n",
    "FROM \n",
    "    patients\n",
    "GROUP BY \n",
    "    chest_pain_type;\n",
    "\"\"\"\n",
    "\n",
    "# Execute the query and load the result into a DataFrame\n",
    "chest_pain_frequencies = pd.read_sql_query(query, conn)\n",
    "\n",
    "# Close the database connection\n",
    "# conn.close()\n",
    "\n",
    "# Display the result\n",
    "print(chest_pain_frequencies)"
   ]
  },
  {
   "cell_type": "code",
   "execution_count": 58,
   "id": "3375e0b7-0e90-459a-b0f1-7c1f4454ce46",
   "metadata": {},
   "outputs": [
    {
     "name": "stdout",
     "output_type": "stream",
     "text": [
      "      age  num  frequency\n",
      "0   20-29    0          1\n",
      "1   20-29    1          0\n",
      "2   20-29    2          0\n",
      "3   20-29    3          0\n",
      "4   20-29    4          0\n",
      "5   30-39    0         10\n",
      "6   30-39    1          2\n",
      "7   30-39    2          0\n",
      "8   30-39    3          1\n",
      "9   30-39    4          1\n",
      "10  40-49    0         50\n",
      "11  40-49    1         11\n",
      "12  40-49    2          5\n",
      "13  40-49    3          6\n",
      "14  40-49    4          0\n",
      "15  50-59    0         65\n",
      "16  50-59    1         24\n",
      "17  50-59    2         14\n",
      "18  50-59    3         17\n",
      "19  50-59    4          5\n",
      "20  60-69    0         32\n",
      "21  60-69    1         17\n",
      "22  60-69    2         17\n",
      "23  60-69    3         10\n",
      "24  60-69    4          5\n",
      "25  70-79    0          6\n",
      "26  70-79    1          1\n",
      "27  70-79    2          0\n",
      "28  70-79    3          1\n",
      "29  70-79    4          2\n",
      "30    80+    0          0\n",
      "31    80+    1          0\n",
      "32    80+    2          0\n",
      "33    80+    3          0\n",
      "34    80+    4          0\n"
     ]
    }
   ],
   "source": [
    "# import sqlite3\n",
    "# import pandas as pd\n",
    "\n",
    "# # Connect to the SQLite database\n",
    "# conn = sqlite3.connect('your_database.db')\n",
    "\n",
    "#this assumes the indicies are the key as there is no other key column to join\n",
    "# Fetch both tables into pandas DataFrames\n",
    "patients_df = pd.read_sql_query(\"SELECT * FROM patients\", conn, index_col=None)\n",
    "heartdisease_df = pd.read_sql_query(\"SELECT * FROM heartdisease\", conn, index_col=None)\n",
    "\n",
    "# Close the database connection\n",
    "# conn.close()\n",
    "\n",
    "# Set index for both DataFrames if they don't already have one\n",
    "patients_df.index = patients_df.index\n",
    "heartdisease_df.index = heartdisease_df.index\n",
    "\n",
    "# Merge DataFrames on index\n",
    "merged_df = patients_df.join(heartdisease_df, how='inner')\n",
    "\n",
    "# Now perform the grouping and count based on age group and heart disease status\n",
    "age_group_distribution = merged_df.groupby([\n",
    "    pd.cut(merged_df['age'], bins=[20, 30, 40, 50, 60, 70, 80, 100], right=False, labels=['20-29', '30-39', '40-49', '50-59', '60-69', '70-79', '80+']),\n",
    "    'num'\n",
    "], observed=False).size().reset_index(name='frequency')\n",
    "\n",
    "# Display the result\n",
    "print(age_group_distribution)\n"
   ]
  },
  {
   "cell_type": "code",
   "execution_count": 60,
   "id": "ac0a117b-8c26-4a99-ad28-fa4dbb600ac0",
   "metadata": {},
   "outputs": [
    {
     "name": "stdout",
     "output_type": "stream",
     "text": [
      "   min_cholesterol  max_cholesterol\n",
      "0              126              564\n"
     ]
    }
   ],
   "source": [
    "# Find the range of cholesterol levels among patients (minimum, maximum).\n",
    "# Define the SQL query\n",
    "query = \"\"\"\n",
    "SELECT \n",
    "    MIN(chol) AS min_cholesterol,\n",
    "    MAX(chol) AS max_cholesterol\n",
    "FROM \n",
    "    patients;\n",
    "\"\"\"\n",
    "\n",
    "# Execute the query and load the result into a DataFrame\n",
    "cholesterol_range = pd.read_sql_query(query, conn)\n",
    "\n",
    "# Close the database connection\n",
    "# conn.close()\n",
    "\n",
    "# Display the result\n",
    "print(cholesterol_range)"
   ]
  },
  {
   "cell_type": "code",
   "execution_count": 64,
   "id": "fbd1c2f6-f233-440c-a414-e866978eaec1",
   "metadata": {},
   "outputs": [
    {
     "name": "stdout",
     "output_type": "stream",
     "text": [
      "   sex  youngest  oldest\n",
      "0    0        34      76\n",
      "1    1        29      77\n"
     ]
    }
   ],
   "source": [
    "# Determine the age range (youngest and oldest) for male and female patients separately.\n",
    "# Define the SQL query\n",
    "query = \"\"\"\n",
    "SELECT \n",
    "    sex,\n",
    "    MIN(age) AS youngest,\n",
    "    MAX(age) AS oldest\n",
    "FROM \n",
    "    patients\n",
    "GROUP BY \n",
    "    sex;\n",
    "\"\"\"\n",
    "\n",
    "# Execute the query and load the result into a DataFrame\n",
    "age_range_by_gender = pd.read_sql_query(query, conn)\n",
    "\n",
    "# Close the database connection\n",
    "# conn.close()\n",
    "\n",
    "# Display the result\n",
    "print(age_range_by_gender)"
   ]
  },
  {
   "cell_type": "code",
   "execution_count": 68,
   "id": "edb30869-5e5c-488f-97c1-1597910ce448",
   "metadata": {},
   "outputs": [
    {
     "name": "stdout",
     "output_type": "stream",
     "text": [
      "num   0  1  2  3  4\n",
      "age                \n",
      "29    1  0  0  0  0\n",
      "34    2  0  0  0  0\n",
      "35    2  2  0  0  0\n",
      "37    2  0  0  0  0\n",
      "38    1  0  0  0  1\n",
      "39    3  0  0  1  0\n",
      "40    1  1  0  1  0\n",
      "41    9  1  0  0  0\n",
      "42    7  0  1  0  0\n",
      "43    5  1  1  1  0\n",
      "44    8  1  2  0  0\n",
      "45    6  1  0  1  0\n",
      "46    4  2  1  0  0\n",
      "47    3  2  0  0  0\n",
      "48    4  1  0  2  0\n",
      "49    3  1  0  1  0\n",
      "50    4  1  0  1  1\n",
      "51    9  1  1  1  0\n",
      "52    9  2  1  1  0\n",
      "53    6  1  0  1  0\n",
      "54   10  2  1  3  0\n",
      "55    3  0  1  3  1\n",
      "56    5  2  3  1  0\n",
      "57    7  7  1  1  1\n",
      "58    7  4  2  4  2\n",
      "59    5  4  4  1  0\n",
      "60    3  4  3  1  1\n",
      "61    1  3  3  0  1\n",
      "62    4  2  2  3  0\n",
      "63    3  2  2  1  1\n",
      "64    6  2  0  1  1\n",
      "65    4  2  1  0  1\n",
      "66    4  0  2  1  0\n",
      "67    3  2  2  2  0\n",
      "68    2  0  1  1  0\n",
      "69    2  0  1  0  0\n",
      "70    1  1  0  1  1\n",
      "71    3  0  0  0  0\n",
      "74    1  0  0  0  0\n",
      "76    1  0  0  0  0\n",
      "77    0  0  0  0  1\n"
     ]
    }
   ],
   "source": [
    "# Investigate the distribution of the target variable (presence or absence of heart disease) within different age groups (e.g., 20-30, 30-40, etc.).\n",
    "#this assumes the indicies are the key as there is no other key column to join\n",
    "# Fetch both tables into pandas DataFrames\n",
    "patients_df = pd.read_sql_query(\"SELECT * FROM patients\", conn, index_col=None)\n",
    "heartdisease_df = pd.read_sql_query(\"SELECT * FROM heartdisease\", conn, index_col=None)\n",
    "\n",
    "# Set index for both DataFrames if they don't already have one\n",
    "patients_df.index = patients_df.index\n",
    "heartdisease_df.index = heartdisease_df.index\n",
    "\n",
    "# Merge DataFrames on index\n",
    "merged_df = patients_df.join(heartdisease_df, how='inner')\n",
    "# Group by age group and heart disease presence/absence\n",
    "age_distribution = merged_df.groupby(['age', 'num']).size().unstack(fill_value=0)\n",
    "\n",
    "# Display the result\n",
    "print(age_distribution)"
   ]
  },
  {
   "cell_type": "code",
   "execution_count": 82,
   "id": "9fc12360-fd92-4405-9bc6-a35ea31becda",
   "metadata": {},
   "outputs": [
    {
     "name": "stdout",
     "output_type": "stream",
     "text": [
      "  age_group  max_heart_rate\n",
      "0     30-39             192\n",
      "1     40-49             194\n",
      "2     50-59             195\n",
      "3     60-69             179\n",
      "4     70-79             162\n",
      "5       80+             202\n"
     ]
    }
   ],
   "source": [
    "# Find the maximum heart rate achieved during exercise for different age groups (e.g., 30-40, 40-50, etc.).\n",
    "# Define the SQL query\n",
    "# 8. thalach - maximum heart rate achieved\n",
    "query = \"\"\"\n",
    "SELECT \n",
    "    CASE\n",
    "        WHEN age BETWEEN 30 AND 39 THEN '30-39'\n",
    "        WHEN age BETWEEN 40 AND 49 THEN '40-49'\n",
    "        WHEN age BETWEEN 50 AND 59 THEN '50-59'\n",
    "        WHEN age BETWEEN 60 AND 69 THEN '60-69'\n",
    "        WHEN age BETWEEN 70 AND 79 THEN '70-79'\n",
    "        ELSE '80+'\n",
    "    END AS age_group,\n",
    "    MAX(thalach) AS max_heart_rate\n",
    "FROM \n",
    "    patients\n",
    "GROUP BY \n",
    "    age_group\n",
    "\n",
    "\"\"\"\n",
    "\n",
    "# Execute the query and load the result into a DataFrame\n",
    "max_heart_rate_by_age_group = pd.read_sql_query(query, conn)\n",
    "\n",
    "# Close the database connection\n",
    "# conn.close()\n",
    "\n",
    "# Display the result\n",
    "print(max_heart_rate_by_age_group)"
   ]
  },
  {
   "cell_type": "code",
   "execution_count": 86,
   "id": "3bdd5644-64d4-4a36-966b-31303123778c",
   "metadata": {},
   "outputs": [
    {
     "name": "stdout",
     "output_type": "stream",
     "text": [
      "   percentage_above_120\n",
      "0             14.851485\n"
     ]
    }
   ],
   "source": [
    "# Calculate the percentage of patients with fasting blood sugar greater than 120 mg/dl.\n",
    "# 6. fbs - (fasting blood sugar > 120 mg/dl)  (1 = true; 0 = false)\n",
    "# Define the SQL query\n",
    "query = \"\"\"\n",
    "SELECT \n",
    "    (SUM(fbs) * 100.0 / COUNT(*)) AS percentage_above_120\n",
    "FROM \n",
    "    patients;\n",
    "\"\"\"\n",
    "# Execute the query and load the result into a DataFrame\n",
    "percentage_fasting_sugar = pd.read_sql_query(query, conn)\n",
    "\n",
    "# Close the database connection\n",
    "conn.close()\n",
    "\n",
    "# Display the result\n",
    "print(percentage_fasting_sugar)"
   ]
  },
  {
   "cell_type": "code",
   "execution_count": 94,
   "id": "178cd685-7020-4e28-8ca6-2035c7166f5e",
   "metadata": {},
   "outputs": [
    {
     "name": "stdout",
     "output_type": "stream",
     "text": [
      "   ratio_abnormal_to_normal\n",
      "0                  1.006623\n"
     ]
    }
   ],
   "source": [
    "# Find the ratio of patients with abnormal resting electrocardiographic results to those with normal results.\n",
    "# 7. restecg - resting electrocardiographic results\n",
    "#         -- Value 0: normal\n",
    "#         -- Value 1: having ST-T wave abnormality (T wave inversions and/or ST elevation or depression of > 0.05 mV)\n",
    "#         -- Value 2: showing probable or definite left ventricular hypertrophy by Estes' criteria\n",
    "# Define the SQL query\n",
    "query = \"\"\"\n",
    "SELECT \n",
    "    (SUM(CASE WHEN restecg IN (1, 2) THEN 1 ELSE 0 END) * 1.0 / NULLIF(SUM(CASE WHEN restecg = 0 THEN 1 ELSE 0 END), 0)) AS ratio_abnormal_to_normal\n",
    "FROM \n",
    "    patients;\n",
    "\"\"\"\n",
    "\n",
    "# Execute the query and load the result into a DataFrame\n",
    "ratio_abnormal_to_normal = pd.read_sql_query(query, conn)\n",
    "\n",
    "# Close the database connection\n",
    "# conn.close()\n",
    "\n",
    "# Display the result\n",
    "print(ratio_abnormal_to_normal)"
   ]
  },
  {
   "cell_type": "code",
   "execution_count": 98,
   "id": "fb4b3064-e65f-41af-8fd3-5509cc23d222",
   "metadata": {},
   "outputs": [
    {
     "name": "stdout",
     "output_type": "stream",
     "text": [
      "   count_reversible_thalassemia\n",
      "0                           117\n"
     ]
    }
   ],
   "source": [
    "# Count the number of patients with reversible thalassemia detected by thallium stress testing.\n",
    "# 13. thal - 3 = normal; 6 = fixed defect; 7 = reversable defect\n",
    "# Define the SQL query\n",
    "query = \"\"\"\n",
    "SELECT \n",
    "    COUNT(*) AS count_reversible_thalassemia\n",
    "FROM \n",
    "    patients\n",
    "WHERE \n",
    "    thal = 7;\n",
    "\"\"\"\n",
    "\n",
    "# Execute the query and load the result into a DataFrame\n",
    "reversible_thal_count = pd.read_sql_query(query, conn)\n",
    "# Display the result\n",
    "print(reversible_thal_count)"
   ]
  },
  {
   "cell_type": "code",
   "execution_count": 100,
   "id": "f52f3f69-21ab-427a-976e-735918c4573c",
   "metadata": {},
   "outputs": [
    {
     "name": "stdout",
     "output_type": "stream",
     "text": [
      "   average_age_with_chest_pain\n",
      "0                     53.27673\n"
     ]
    }
   ],
   "source": [
    "# Calculate the average age of patients who experienced chest pain during diagnosis.\n",
    "# 3. cp - chest pain type\n",
    "#         -- Value 1: typical angina\n",
    "#         -- Value 2: atypical angina\n",
    "#         -- Value 3: non-anginal pain\n",
    "#         -- Value 4: asymptomatic\n",
    "\n",
    "# Define the SQL query\n",
    "query = \"\"\"\n",
    "SELECT \n",
    "    AVG(age) AS average_age_with_chest_pain\n",
    "FROM \n",
    "    patients\n",
    "WHERE \n",
    "    cp IN (1, 2, 3);\n",
    "\"\"\"\n",
    "\n",
    "# Execute the query and load the result into a DataFrame\n",
    "average_age_chest_pain = pd.read_sql_query(query, conn)\n",
    "\n",
    "# Close the database connection\n",
    "# conn.close()\n",
    "\n",
    "# Display the result\n",
    "print(average_age_chest_pain)"
   ]
  },
  {
   "cell_type": "code",
   "execution_count": 102,
   "id": "4fed0589-067f-4422-8c72-87c165f3a480",
   "metadata": {},
   "outputs": [
    {
     "name": "stdout",
     "output_type": "stream",
     "text": [
      "   number_of_major_vessels  patient_count\n",
      "0                      NaN              4\n",
      "1                      0.0            176\n",
      "2                      1.0             65\n",
      "3                      2.0             38\n",
      "4                      3.0             20\n"
     ]
    }
   ],
   "source": [
    "# Investigate the distribution of patients based on the number of major vessels colored by fluoroscopy (0-3).\n",
    "# 12. ca - number of major vessels (0-3) colored by flourosopy\n",
    "# Define the SQL query\n",
    "query = \"\"\"\n",
    "SELECT \n",
    "    ca AS number_of_major_vessels,\n",
    "    COUNT(*) AS patient_count\n",
    "FROM \n",
    "    patients\n",
    "GROUP BY \n",
    "    ca\n",
    "ORDER BY \n",
    "    ca;\n",
    "\"\"\"\n",
    "\n",
    "# Execute the query and load the result into a DataFrame\n",
    "major_vessels_distribution = pd.read_sql_query(query, conn)\n",
    "\n",
    "# Close the database connection\n",
    "# conn.close()\n",
    "\n",
    "# Display the result\n",
    "print(major_vessels_distribution)"
   ]
  },
  {
   "cell_type": "code",
   "execution_count": 106,
   "id": "7526d27e-8168-4b66-b128-0a5d1710e6a6",
   "metadata": {},
   "outputs": [],
   "source": [
    "# Close the database connection\n",
    "conn.close()\n"
   ]
  }
 ],
 "metadata": {
  "kernelspec": {
   "display_name": "Python 3 (ipykernel)",
   "language": "python",
   "name": "python3"
  },
  "language_info": {
   "codemirror_mode": {
    "name": "ipython",
    "version": 3
   },
   "file_extension": ".py",
   "mimetype": "text/x-python",
   "name": "python",
   "nbconvert_exporter": "python",
   "pygments_lexer": "ipython3",
   "version": "3.12.3"
  }
 },
 "nbformat": 4,
 "nbformat_minor": 5
}
