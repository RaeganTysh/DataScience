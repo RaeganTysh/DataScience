{
 "cells": [
  {
   "cell_type": "markdown",
   "id": "157a0465-93f3-4203-b8c4-7f7ae94d5bbd",
   "metadata": {},
   "source": [
    "### Data Science Tools and Ecosystem"
   ]
  },
  {
   "cell_type": "markdown",
   "id": "16132d95-b69b-4db5-a237-5b8913f545a4",
   "metadata": {},
   "source": [
    "#### In this notebook, Data Science Tools and Ecosystem are Summarized."
   ]
  },
  {
   "cell_type": "markdown",
   "id": "a5367246-c099-4efd-9d40-e88aceec0853",
   "metadata": {},
   "source": [
    "**Objectives:**\n",
    "- Popular languages in Data Science\n",
    "- Commonly used libraries in Data Science\n",
    "- Data Science Tools\n",
    "- Python Examples"
   ]
  },
  {
   "cell_type": "markdown",
   "id": "97d7ca06-6bbb-4c23-a0c2-e79a3d5952f2",
   "metadata": {},
   "source": [
    "#### Some of the popular languages that Data Scientist use are:\n",
    "1. Python\n",
    "2. R\n",
    "3. SQL\n",
    "4. Scala\n",
    "5. Java\n",
    "6. C++\n",
    "7. Julia"
   ]
  },
  {
   "cell_type": "markdown",
   "id": "bf77b3d2-7067-47c7-9309-bddd4e2d7754",
   "metadata": {},
   "source": [
    "#### Some of the commonly used libraries used by Data Scientist include:\n",
    "1. Python Libraries\n",
    "- Scientific Computing - Panadas, NumPy\n",
    "- Visualisation- Mtplotlib, Seaborn\n",
    "- Machine Learning & Deep Learning- Skikit-Learn (statistical modeling ex. regression, classification, clustering ect), Keras\n",
    "- Deep Learning - TensorFlow & PyTorch\n",
    "2. Scala Libraries\n",
    "- Statistical Visulization - Vegas\n",
    "- Deep Learning - Big DL\n",
    "3. R Libraries\n",
    "- Visualisation - ggplot2\n",
    "- Interface with Keras TensorFlow\n"
   ]
  },
  {
   "cell_type": "markdown",
   "id": "e904dd79-e4bf-4b5b-a4c2-eca45a753b91",
   "metadata": {},
   "source": [
    "| Data Science Tools | \n",
    "| ----------------|\n",
    "| Jupyter Notebooks |\n",
    "| Jupyter Lab |\n",
    "| R Studio |\n",
    "| Apache Zepplin | \n",
    "| Spyder |"
   ]
  },
  {
   "cell_type": "markdown",
   "id": "83942454-5765-49fd-aed0-5752ebf96d11",
   "metadata": {},
   "source": [
    "### Below are a few examples of evaluating arithmetic expressions in Python"
   ]
  },
  {
   "cell_type": "code",
   "execution_count": 32,
   "id": "c57fa4f6-a0de-46d2-b482-c56c48569413",
   "metadata": {},
   "outputs": [
    {
     "data": {
      "text/plain": [
       "17"
      ]
     },
     "execution_count": 32,
     "metadata": {},
     "output_type": "execute_result"
    }
   ],
   "source": [
    "# This is  a simple arithmetic expression to multiply then add integers\n",
    "(3*4)+5"
   ]
  },
  {
   "cell_type": "code",
   "execution_count": 34,
   "id": "bb64de51-76b0-4d07-bcc6-f2f1e4e1c379",
   "metadata": {},
   "outputs": [
    {
     "data": {
      "text/plain": [
       "3.3333333333333335"
      ]
     },
     "execution_count": 34,
     "metadata": {},
     "output_type": "execute_result"
    }
   ],
   "source": [
    "# This will convert 200 minutes to hours by dividing by\n",
    "200/60"
   ]
  },
  {
   "cell_type": "markdown",
   "id": "c2733c80-b929-40ec-ac22-a07346ca75aa",
   "metadata": {},
   "source": [
    "## Author:\n",
    "Raegan Tyshkewich"
   ]
  },
  {
   "cell_type": "code",
   "execution_count": null,
   "id": "cc3ae491-0cfd-4ce4-aa00-b6849fe67aa4",
   "metadata": {},
   "outputs": [],
   "source": []
  }
 ],
 "metadata": {
  "kernelspec": {
   "display_name": "Python 3 (ipykernel)",
   "language": "python",
   "name": "python3"
  },
  "language_info": {
   "codemirror_mode": {
    "name": "ipython",
    "version": 3
   },
   "file_extension": ".py",
   "mimetype": "text/x-python",
   "name": "python",
   "nbconvert_exporter": "python",
   "pygments_lexer": "ipython3",
   "version": "3.12.4"
  }
 },
 "nbformat": 4,
 "nbformat_minor": 5
}
